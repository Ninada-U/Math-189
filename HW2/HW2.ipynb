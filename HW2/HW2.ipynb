{
 "cells": [
  {
   "cell_type": "code",
   "execution_count": 47,
   "metadata": {},
   "outputs": [],
   "source": [
    "library(ggplot2)\n",
    "library(boot)"
   ]
  },
  {
   "cell_type": "code",
   "execution_count": 2,
   "metadata": {},
   "outputs": [
    {
     "data": {
      "text/html": [
       "<table>\n",
       "<thead><tr><th scope=col>time</th><th scope=col>like</th><th scope=col>where</th><th scope=col>freq</th><th scope=col>busy</th><th scope=col>educ</th><th scope=col>sex</th><th scope=col>age</th><th scope=col>home</th><th scope=col>math</th><th scope=col>work</th><th scope=col>own</th><th scope=col>cdrom</th><th scope=col>email</th><th scope=col>grade</th></tr></thead>\n",
       "<tbody>\n",
       "\t<tr><td>2 </td><td>3 </td><td>3 </td><td>2 </td><td>0 </td><td>1 </td><td>0 </td><td>19</td><td>1 </td><td>0 </td><td>10</td><td>1 </td><td>0 </td><td>1 </td><td>4 </td></tr>\n",
       "\t<tr><td>0 </td><td>3 </td><td>3 </td><td>3 </td><td>0 </td><td>0 </td><td>0 </td><td>18</td><td>1 </td><td>1 </td><td> 0</td><td>1 </td><td>1 </td><td>1 </td><td>2 </td></tr>\n",
       "\t<tr><td>0 </td><td>3 </td><td>1 </td><td>3 </td><td>0 </td><td>0 </td><td>1 </td><td>19</td><td>1 </td><td>0 </td><td> 0</td><td>1 </td><td>0 </td><td>1 </td><td>3 </td></tr>\n",
       "</tbody>\n",
       "</table>\n"
      ],
      "text/latex": [
       "\\begin{tabular}{r|lllllllllllllll}\n",
       " time & like & where & freq & busy & educ & sex & age & home & math & work & own & cdrom & email & grade\\\\\n",
       "\\hline\n",
       "\t 2  & 3  & 3  & 2  & 0  & 1  & 0  & 19 & 1  & 0  & 10 & 1  & 0  & 1  & 4 \\\\\n",
       "\t 0  & 3  & 3  & 3  & 0  & 0  & 0  & 18 & 1  & 1  &  0 & 1  & 1  & 1  & 2 \\\\\n",
       "\t 0  & 3  & 1  & 3  & 0  & 0  & 1  & 19 & 1  & 0  &  0 & 1  & 0  & 1  & 3 \\\\\n",
       "\\end{tabular}\n"
      ],
      "text/markdown": [
       "\n",
       "| time | like | where | freq | busy | educ | sex | age | home | math | work | own | cdrom | email | grade |\n",
       "|---|---|---|---|---|---|---|---|---|---|---|---|---|---|---|\n",
       "| 2  | 3  | 3  | 2  | 0  | 1  | 0  | 19 | 1  | 0  | 10 | 1  | 0  | 1  | 4  |\n",
       "| 0  | 3  | 3  | 3  | 0  | 0  | 0  | 18 | 1  | 1  |  0 | 1  | 1  | 1  | 2  |\n",
       "| 0  | 3  | 1  | 3  | 0  | 0  | 1  | 19 | 1  | 0  |  0 | 1  | 0  | 1  | 3  |\n",
       "\n"
      ],
      "text/plain": [
       "  time like where freq busy educ sex age home math work own cdrom email grade\n",
       "1 2    3    3     2    0    1    0   19  1    0    10   1   0     1     4    \n",
       "2 0    3    3     3    0    0    0   18  1    1     0   1   1     1     2    \n",
       "3 0    3    1     3    0    0    1   19  1    0     0   1   0     1     3    "
      ]
     },
     "metadata": {},
     "output_type": "display_data"
    }
   ],
   "source": [
    "vd = read.table('videodata.txt', header=1)\n",
    "head(vd, 3)"
   ]
  },
  {
   "cell_type": "code",
   "execution_count": 13,
   "metadata": {},
   "outputs": [
    {
     "data": {
      "text/html": [
       "<ol class=list-inline>\n",
       "\t<li>2</li>\n",
       "\t<li>0</li>\n",
       "\t<li>0</li>\n",
       "\t<li>0.5</li>\n",
       "\t<li>0</li>\n",
       "\t<li>0</li>\n",
       "\t<li>0</li>\n",
       "\t<li>0</li>\n",
       "\t<li>2</li>\n",
       "\t<li>0</li>\n",
       "\t<li>0</li>\n",
       "\t<li>0</li>\n",
       "\t<li>0</li>\n",
       "\t<li>3</li>\n",
       "\t<li>1</li>\n",
       "\t<li>0</li>\n",
       "\t<li>0</li>\n",
       "\t<li>0</li>\n",
       "\t<li>2</li>\n",
       "\t<li>0</li>\n",
       "\t<li>2</li>\n",
       "\t<li>0</li>\n",
       "\t<li>2</li>\n",
       "\t<li>0</li>\n",
       "\t<li>0</li>\n",
       "\t<li>0</li>\n",
       "\t<li>0</li>\n",
       "\t<li>0</li>\n",
       "\t<li>0</li>\n",
       "\t<li>0</li>\n",
       "\t<li>0</li>\n",
       "\t<li>1</li>\n",
       "\t<li>0</li>\n",
       "\t<li>0</li>\n",
       "\t<li>0</li>\n",
       "\t<li>0.1</li>\n",
       "\t<li>0.5</li>\n",
       "\t<li>1</li>\n",
       "\t<li>0</li>\n",
       "\t<li>0</li>\n",
       "\t<li>0</li>\n",
       "\t<li>2</li>\n",
       "\t<li>2</li>\n",
       "\t<li>0.5</li>\n",
       "\t<li>0</li>\n",
       "\t<li>2</li>\n",
       "\t<li>0</li>\n",
       "\t<li>0</li>\n",
       "\t<li>0</li>\n",
       "\t<li>2</li>\n",
       "\t<li>0</li>\n",
       "\t<li>0</li>\n",
       "\t<li>0.5</li>\n",
       "\t<li>3</li>\n",
       "\t<li>0</li>\n",
       "\t<li>0</li>\n",
       "\t<li>0</li>\n",
       "\t<li>4</li>\n",
       "\t<li>30</li>\n",
       "\t<li>14</li>\n",
       "\t<li>0</li>\n",
       "\t<li>0</li>\n",
       "\t<li>0</li>\n",
       "\t<li>0.5</li>\n",
       "\t<li>14</li>\n",
       "\t<li>1</li>\n",
       "\t<li>0</li>\n",
       "\t<li>0</li>\n",
       "\t<li>1.5</li>\n",
       "\t<li>0</li>\n",
       "\t<li>0</li>\n",
       "\t<li>2</li>\n",
       "\t<li>0</li>\n",
       "\t<li>0</li>\n",
       "\t<li>0</li>\n",
       "\t<li>0</li>\n",
       "\t<li>0</li>\n",
       "\t<li>0</li>\n",
       "\t<li>0</li>\n",
       "\t<li>2</li>\n",
       "\t<li>1</li>\n",
       "\t<li>0</li>\n",
       "\t<li>0</li>\n",
       "\t<li>2</li>\n",
       "\t<li>0</li>\n",
       "\t<li>2</li>\n",
       "\t<li>2</li>\n",
       "\t<li>5</li>\n",
       "\t<li>0</li>\n",
       "\t<li>3</li>\n",
       "\t<li>0</li>\n",
       "</ol>\n"
      ],
      "text/latex": [
       "\\begin{enumerate*}\n",
       "\\item 2\n",
       "\\item 0\n",
       "\\item 0\n",
       "\\item 0.5\n",
       "\\item 0\n",
       "\\item 0\n",
       "\\item 0\n",
       "\\item 0\n",
       "\\item 2\n",
       "\\item 0\n",
       "\\item 0\n",
       "\\item 0\n",
       "\\item 0\n",
       "\\item 3\n",
       "\\item 1\n",
       "\\item 0\n",
       "\\item 0\n",
       "\\item 0\n",
       "\\item 2\n",
       "\\item 0\n",
       "\\item 2\n",
       "\\item 0\n",
       "\\item 2\n",
       "\\item 0\n",
       "\\item 0\n",
       "\\item 0\n",
       "\\item 0\n",
       "\\item 0\n",
       "\\item 0\n",
       "\\item 0\n",
       "\\item 0\n",
       "\\item 1\n",
       "\\item 0\n",
       "\\item 0\n",
       "\\item 0\n",
       "\\item 0.1\n",
       "\\item 0.5\n",
       "\\item 1\n",
       "\\item 0\n",
       "\\item 0\n",
       "\\item 0\n",
       "\\item 2\n",
       "\\item 2\n",
       "\\item 0.5\n",
       "\\item 0\n",
       "\\item 2\n",
       "\\item 0\n",
       "\\item 0\n",
       "\\item 0\n",
       "\\item 2\n",
       "\\item 0\n",
       "\\item 0\n",
       "\\item 0.5\n",
       "\\item 3\n",
       "\\item 0\n",
       "\\item 0\n",
       "\\item 0\n",
       "\\item 4\n",
       "\\item 30\n",
       "\\item 14\n",
       "\\item 0\n",
       "\\item 0\n",
       "\\item 0\n",
       "\\item 0.5\n",
       "\\item 14\n",
       "\\item 1\n",
       "\\item 0\n",
       "\\item 0\n",
       "\\item 1.5\n",
       "\\item 0\n",
       "\\item 0\n",
       "\\item 2\n",
       "\\item 0\n",
       "\\item 0\n",
       "\\item 0\n",
       "\\item 0\n",
       "\\item 0\n",
       "\\item 0\n",
       "\\item 0\n",
       "\\item 2\n",
       "\\item 1\n",
       "\\item 0\n",
       "\\item 0\n",
       "\\item 2\n",
       "\\item 0\n",
       "\\item 2\n",
       "\\item 2\n",
       "\\item 5\n",
       "\\item 0\n",
       "\\item 3\n",
       "\\item 0\n",
       "\\end{enumerate*}\n"
      ],
      "text/markdown": [
       "1. 2\n",
       "2. 0\n",
       "3. 0\n",
       "4. 0.5\n",
       "5. 0\n",
       "6. 0\n",
       "7. 0\n",
       "8. 0\n",
       "9. 2\n",
       "10. 0\n",
       "11. 0\n",
       "12. 0\n",
       "13. 0\n",
       "14. 3\n",
       "15. 1\n",
       "16. 0\n",
       "17. 0\n",
       "18. 0\n",
       "19. 2\n",
       "20. 0\n",
       "21. 2\n",
       "22. 0\n",
       "23. 2\n",
       "24. 0\n",
       "25. 0\n",
       "26. 0\n",
       "27. 0\n",
       "28. 0\n",
       "29. 0\n",
       "30. 0\n",
       "31. 0\n",
       "32. 1\n",
       "33. 0\n",
       "34. 0\n",
       "35. 0\n",
       "36. 0.1\n",
       "37. 0.5\n",
       "38. 1\n",
       "39. 0\n",
       "40. 0\n",
       "41. 0\n",
       "42. 2\n",
       "43. 2\n",
       "44. 0.5\n",
       "45. 0\n",
       "46. 2\n",
       "47. 0\n",
       "48. 0\n",
       "49. 0\n",
       "50. 2\n",
       "51. 0\n",
       "52. 0\n",
       "53. 0.5\n",
       "54. 3\n",
       "55. 0\n",
       "56. 0\n",
       "57. 0\n",
       "58. 4\n",
       "59. 30\n",
       "60. 14\n",
       "61. 0\n",
       "62. 0\n",
       "63. 0\n",
       "64. 0.5\n",
       "65. 14\n",
       "66. 1\n",
       "67. 0\n",
       "68. 0\n",
       "69. 1.5\n",
       "70. 0\n",
       "71. 0\n",
       "72. 2\n",
       "73. 0\n",
       "74. 0\n",
       "75. 0\n",
       "76. 0\n",
       "77. 0\n",
       "78. 0\n",
       "79. 0\n",
       "80. 2\n",
       "81. 1\n",
       "82. 0\n",
       "83. 0\n",
       "84. 2\n",
       "85. 0\n",
       "86. 2\n",
       "87. 2\n",
       "88. 5\n",
       "89. 0\n",
       "90. 3\n",
       "91. 0\n",
       "\n",
       "\n"
      ],
      "text/plain": [
       " [1]  2.0  0.0  0.0  0.5  0.0  0.0  0.0  0.0  2.0  0.0  0.0  0.0  0.0  3.0  1.0\n",
       "[16]  0.0  0.0  0.0  2.0  0.0  2.0  0.0  2.0  0.0  0.0  0.0  0.0  0.0  0.0  0.0\n",
       "[31]  0.0  1.0  0.0  0.0  0.0  0.1  0.5  1.0  0.0  0.0  0.0  2.0  2.0  0.5  0.0\n",
       "[46]  2.0  0.0  0.0  0.0  2.0  0.0  0.0  0.5  3.0  0.0  0.0  0.0  4.0 30.0 14.0\n",
       "[61]  0.0  0.0  0.0  0.5 14.0  1.0  0.0  0.0  1.5  0.0  0.0  2.0  0.0  0.0  0.0\n",
       "[76]  0.0  0.0  0.0  0.0  2.0  1.0  0.0  0.0  2.0  0.0  2.0  2.0  5.0  0.0  3.0\n",
       "[91]  0.0"
      ]
     },
     "metadata": {},
     "output_type": "display_data"
    }
   ],
   "source": [
    "vd$time"
   ]
  },
  {
   "cell_type": "code",
   "execution_count": 3,
   "metadata": {},
   "outputs": [],
   "source": [
    "vm = read.table('videoMultiple.txt', header=1)\n",
    "# head(vm, 3)"
   ]
  },
  {
   "cell_type": "markdown",
   "metadata": {},
   "source": [
    "Scenario 1: Begin by providing an estimate for the fraction of students who played a video game in the week prior to the survey. Provide an interval estimate as well as a point estimate for this proportion."
   ]
  },
  {
   "cell_type": "code",
   "execution_count": 28,
   "metadata": {},
   "outputs": [
    {
     "data": {
      "text/html": [
       "'95% interval estimate'"
      ],
      "text/latex": [
       "'95\\% interval estimate'"
      ],
      "text/markdown": [
       "'95% interval estimate'"
      ],
      "text/plain": [
       "[1] \"95% interval estimate\""
      ]
     },
     "metadata": {},
     "output_type": "display_data"
    },
    {
     "data": {
      "text/html": [
       "<ol class=list-inline>\n",
       "\t<li>0.273681084117089</li>\n",
       "\t<li>0.473571663135659</li>\n",
       "</ol>\n"
      ],
      "text/latex": [
       "\\begin{enumerate*}\n",
       "\\item 0.273681084117089\n",
       "\\item 0.473571663135659\n",
       "\\end{enumerate*}\n"
      ],
      "text/markdown": [
       "1. 0.273681084117089\n",
       "2. 0.473571663135659\n",
       "\n",
       "\n"
      ],
      "text/plain": [
       "[1] 0.2736811 0.4735717"
      ]
     },
     "metadata": {},
     "output_type": "display_data"
    },
    {
     "data": {
      "text/html": [
       "'point estimate'"
      ],
      "text/latex": [
       "'point estimate'"
      ],
      "text/markdown": [
       "'point estimate'"
      ],
      "text/plain": [
       "[1] \"point estimate\""
      ]
     },
     "metadata": {},
     "output_type": "display_data"
    },
    {
     "data": {
      "text/html": [
       "0.373626373626374"
      ],
      "text/latex": [
       "0.373626373626374"
      ],
      "text/markdown": [
       "0.373626373626374"
      ],
      "text/plain": [
       "[1] 0.3736264"
      ]
     },
     "metadata": {},
     "output_type": "display_data"
    }
   ],
   "source": [
    "# finding a 95% interval estimate and a point estimate\n",
    "# for students who played any amount of videogames in past week\n",
    "did_play_in_week_prior <- vd$time>0\n",
    "total_students = nrow(vd)\n",
    "n <- total_students;\n",
    "standard_deviation <- sd(did_play_in_week_prior);\n",
    "standard_error_of_mean <- standard_deviation/sqrt(n);\n",
    "margin_of_error = qnorm(.975)*standard_error_of_mean;\n",
    "m = mean(did_play_in_week_prior)\n",
    "\"95% interval estimate\"\n",
    "m + c(-margin_of_error, margin_of_error)\n",
    "\"point estimate\"\n",
    "m"
   ]
  },
  {
   "cell_type": "code",
   "execution_count": 17,
   "metadata": {},
   "outputs": [
    {
     "data": {
      "text/html": [
       "1.95996398454005"
      ],
      "text/latex": [
       "1.95996398454005"
      ],
      "text/markdown": [
       "1.95996398454005"
      ],
      "text/plain": [
       "[1] 1.959964"
      ]
     },
     "metadata": {},
     "output_type": "display_data"
    }
   ],
   "source": [
    "qnorm(.975)"
   ]
  },
  {
   "cell_type": "code",
   "execution_count": 30,
   "metadata": {},
   "outputs": [
    {
     "data": {
      "text/html": [
       "0.0509934316638677"
      ],
      "text/latex": [
       "0.0509934316638677"
      ],
      "text/markdown": [
       "0.0509934316638677"
      ],
      "text/plain": [
       "[1] 0.05099343"
      ]
     },
     "metadata": {},
     "output_type": "display_data"
    }
   ],
   "source": [
    "standard_error_of_mean"
   ]
  },
  {
   "cell_type": "markdown",
   "metadata": {},
   "source": [
    "Scenario 2: Check to see how the amount of time spent playing videogames in the week prior to the survey compares to the reported frequency of play (daily, weekly, etc.) How might the fact that there was an exam in the week prior to the survey affect your previous estimates and this comparison?"
   ]
  },
  {
   "cell_type": "code",
   "execution_count": 32,
   "metadata": {},
   "outputs": [
    {
     "data": {
      "text/html": [
       "'95% interval estimate'"
      ],
      "text/latex": [
       "'95\\% interval estimate'"
      ],
      "text/markdown": [
       "'95% interval estimate'"
      ],
      "text/plain": [
       "[1] \"95% interval estimate\""
      ]
     },
     "metadata": {},
     "output_type": "display_data"
    },
    {
     "data": {
      "text/html": [
       "<ol class=list-inline>\n",
       "\t<li>0.362826608127619</li>\n",
       "\t<li>0.58589134059033</li>\n",
       "</ol>\n"
      ],
      "text/latex": [
       "\\begin{enumerate*}\n",
       "\\item 0.362826608127619\n",
       "\\item 0.58589134059033\n",
       "\\end{enumerate*}\n"
      ],
      "text/markdown": [
       "1. 0.362826608127619\n",
       "2. 0.58589134059033\n",
       "\n",
       "\n"
      ],
      "text/plain": [
       "[1] 0.3628266 0.5858913"
      ]
     },
     "metadata": {},
     "output_type": "display_data"
    },
    {
     "data": {
      "text/html": [
       "'point estimate'"
      ],
      "text/latex": [
       "'point estimate'"
      ],
      "text/markdown": [
       "'point estimate'"
      ],
      "text/plain": [
       "[1] \"point estimate\""
      ]
     },
     "metadata": {},
     "output_type": "display_data"
    },
    {
     "data": {
      "text/html": [
       "0.474358974358974"
      ],
      "text/latex": [
       "0.474358974358974"
      ],
      "text/markdown": [
       "0.474358974358974"
      ],
      "text/plain": [
       "[1] 0.474359"
      ]
     },
     "metadata": {},
     "output_type": "display_data"
    }
   ],
   "source": [
    "# finding a 95% interval estimate and a point estimate\n",
    "# for students who reported to play videogames daily or weekly\n",
    "filtered = vd[vd$freq!=99,]\n",
    "reported_daily_or_weekly <- filtered$freq<3\n",
    "n <- length(reported_daily_or_weekly)\n",
    "m <- mean(reported_daily_or_weekly)\n",
    "standard_deviation <- sd(reported_daily_or_weekly);\n",
    "standard_error_of_mean <- standard_deviation/sqrt(n);\n",
    "margin_of_error = qnorm(.975)*standard_error_of_mean;\n",
    "\"95% interval estimate\"\n",
    "m + c(-margin_of_error, margin_of_error)\n",
    "\"point estimate\"\n",
    "m"
   ]
  },
  {
   "cell_type": "code",
   "execution_count": 35,
   "metadata": {},
   "outputs": [
    {
     "data": {
      "text/html": [
       "78"
      ],
      "text/latex": [
       "78"
      ],
      "text/markdown": [
       "78"
      ],
      "text/plain": [
       "[1] 78"
      ]
     },
     "metadata": {},
     "output_type": "display_data"
    }
   ],
   "source": [
    "nrow(filtered)"
   ]
  },
  {
   "cell_type": "markdown",
   "metadata": {},
   "source": [
    "Scenario 3: Consider making an interval estimate for the average amount of time spent playing videogames in the week prior to the survey. Keep in mind the overall shape of the sample distribution. A simulation study may help determine the appropriateness of an interval estimate."
   ]
  },
  {
   "cell_type": "code",
   "execution_count": 37,
   "metadata": {},
   "outputs": [
    {
     "data": {
      "text/html": [
       "'95% interval estimate'"
      ],
      "text/latex": [
       "'95\\% interval estimate'"
      ],
      "text/markdown": [
       "'95% interval estimate'"
      ],
      "text/plain": [
       "[1] \"95% interval estimate\""
      ]
     },
     "metadata": {},
     "output_type": "display_data"
    },
    {
     "data": {
      "text/html": [
       "<ol class=list-inline>\n",
       "\t<li>0.46682629007255</li>\n",
       "\t<li>2.01888799564174</li>\n",
       "</ol>\n"
      ],
      "text/latex": [
       "\\begin{enumerate*}\n",
       "\\item 0.46682629007255\n",
       "\\item 2.01888799564174\n",
       "\\end{enumerate*}\n"
      ],
      "text/markdown": [
       "1. 0.46682629007255\n",
       "2. 2.01888799564174\n",
       "\n",
       "\n"
      ],
      "text/plain": [
       "[1] 0.4668263 2.0188880"
      ]
     },
     "metadata": {},
     "output_type": "display_data"
    }
   ],
   "source": [
    "# finding a 95% interval estimate and a point estimate\n",
    "# for students who played any amount of videogames in past week\n",
    "total_students = nrow(vd)\n",
    "n <- total_students;\n",
    "standard_deviation <- sd(vd$time);\n",
    "standard_error_of_mean <- standard_deviation/sqrt(n);\n",
    "margin_of_error = qnorm(.975)*standard_error_of_mean;\n",
    "m = mean(vd$time)\n",
    "\"95% interval estimate\"\n",
    "m + c(-margin_of_error, margin_of_error)"
   ]
  },
  {
   "cell_type": "code",
   "execution_count": 43,
   "metadata": {},
   "outputs": [
    {
     "data": {
      "text/html": [
       "'95% interval estimate'"
      ],
      "text/latex": [
       "'95\\% interval estimate'"
      ],
      "text/markdown": [
       "'95% interval estimate'"
      ],
      "text/plain": [
       "[1] \"95% interval estimate\""
      ]
     },
     "metadata": {},
     "output_type": "display_data"
    },
    {
     "data": {
      "text/html": [
       "<ol class=list-inline>\n",
       "\t<li>0.46682629007255</li>\n",
       "\t<li>2.01888799564174</li>\n",
       "</ol>\n"
      ],
      "text/latex": [
       "\\begin{enumerate*}\n",
       "\\item 0.46682629007255\n",
       "\\item 2.01888799564174\n",
       "\\end{enumerate*}\n"
      ],
      "text/markdown": [
       "1. 0.46682629007255\n",
       "2. 2.01888799564174\n",
       "\n",
       "\n"
      ],
      "text/plain": [
       "[1] 0.4668263 2.0188880"
      ]
     },
     "metadata": {},
     "output_type": "display_data"
    }
   ],
   "source": [
    "# finding a 95% interval estimate and a point estimate\n",
    "# for students who played any amount of videogames in past week\n",
    "total_students = nrow(vd)\n",
    "n <- total_students;\n",
    "standard_deviation <- sd(vd$time);\n",
    "standard_error_of_mean <- standard_deviation/sqrt(n);\n",
    "margin_of_error = qnorm(.975)*standard_error_of_mean;\n",
    "m = mean(vd$time)\n",
    "\"95% interval estimate\"\n",
    "m + c(-margin_of_error, margin_of_error)"
   ]
  },
  {
   "cell_type": "code",
   "execution_count": 40,
   "metadata": {},
   "outputs": [
    {
     "data": {
      "text/html": [
       "0.776030852784593"
      ],
      "text/latex": [
       "0.776030852784593"
      ],
      "text/markdown": [
       "0.776030852784593"
      ],
      "text/plain": [
       "[1] 0.7760309"
      ]
     },
     "metadata": {},
     "output_type": "display_data"
    }
   ],
   "source": [
    "margin_of_error"
   ]
  },
  {
   "cell_type": "code",
   "execution_count": 11,
   "metadata": {
    "scrolled": false
   },
   "outputs": [
    {
     "name": "stderr",
     "output_type": "stream",
     "text": [
      "`stat_bin()` using `bins = 30`. Pick better value with `binwidth`.\n"
     ]
    },
    {
     "data": {
      "image/png": "[encoded data removed]",
      "text/plain": [
       "plot without title"
      ]
     },
     "metadata": {},
     "output_type": "display_data"
    }
   ],
   "source": [
    "p = ggplot(vd, aes(time)) + \n",
    "    geom_histogram(alpha=.5, aes(y=..density..), position='identity')\n",
    "p + labs(title=\"Percentages of Students Playing Different Amounts of Videogames\",\n",
    "        x=\"# Hours\",\n",
    "        y=\"% Students\")"
   ]
  },
  {
   "cell_type": "markdown",
   "metadata": {},
   "source": [
    "Scenario 4: Next, consider the \"attitude\" questions. In general, do you think the students enjoy playing videogames? If you had to make a short list of the most important reasons why students like/dislike videogames, what would you put on the list? Don't forget that those students who say that they have never played videogames or do not at all like videogames are asked to skip over some of these questions. So, there may be many nonrespondents to the questions as to whether they think videogames are educational, where they play videogames, etc."
   ]
  },
  {
   "cell_type": "code",
   "execution_count": 8,
   "metadata": {},
   "outputs": [
    {
     "name": "stdout",
     "output_type": "stream",
     "text": [
      "total # students: 91 \n",
      "students very much or somewhat liking videogames: 69 \n"
     ]
    },
    {
     "data": {
      "text/html": [
       "'0 is female, 1 is male'"
      ],
      "text/latex": [
       "'0 is female, 1 is male'"
      ],
      "text/markdown": [
       "'0 is female, 1 is male'"
      ],
      "text/plain": [
       "[1] \"0 is female, 1 is male\""
      ]
     },
     "metadata": {},
     "output_type": "display_data"
    },
    {
     "name": "stdout",
     "output_type": "stream",
     "text": [
      "of students who like videogames, mean sex: 0.6231884 \n",
      "of other students, mean sex: 0.4545455 \n"
     ]
    }
   ],
   "source": [
    "cat(\"total # students:\", nrow(vd), \"\\n\")\n",
    "likers <- vd[vd$like==2|vd$like==3,]\n",
    "dislikers <- vd[vd$like!=2&vd$like!=3,]\n",
    "cat(\"students very much or somewhat liking videogames:\", nrow(likers), \"\\n\")\n",
    "\n",
    "\"0 is female, 1 is male\"\n",
    "cat(\"of students who like videogames, mean sex:\", mean(likers$sex), \"\\n\")\n",
    "cat(\"of other students, mean sex:\", mean(dislikers$sex), \"\\n\")"
   ]
  },
  {
   "cell_type": "code",
   "execution_count": 9,
   "metadata": {},
   "outputs": [
    {
     "data": {
      "text/html": [
       "8.04545454545454"
      ],
      "text/latex": [
       "8.04545454545454"
      ],
      "text/markdown": [
       "8.04545454545454"
      ],
      "text/plain": [
       "[1] 8.045455"
      ]
     },
     "metadata": {},
     "output_type": "display_data"
    },
    {
     "data": {
      "text/html": [
       "5.27272727272727"
      ],
      "text/latex": [
       "5.27272727272727"
      ],
      "text/markdown": [
       "5.27272727272727"
      ],
      "text/plain": [
       "[1] 5.272727"
      ]
     },
     "metadata": {},
     "output_type": "display_data"
    }
   ],
   "source": [
    "mean(likers[likers$work != 99,]$work)\n",
    "mean(dislikers[dislikers$work != 99,]$work)"
   ]
  },
  {
   "cell_type": "code",
   "execution_count": null,
   "metadata": {},
   "outputs": [],
   "source": [
    "vm = read.table('videoMultiple.txt', header=1)\n",
    "head(vm, 5)"
   ]
  },
  {
   "cell_type": "code",
   "execution_count": 163,
   "metadata": {},
   "outputs": [
    {
     "data": {
      "text/html": [
       "<table>\n",
       "<thead><tr><th scope=col>time</th><th scope=col>like</th><th scope=col>where</th><th scope=col>freq</th><th scope=col>busy</th><th scope=col>educ</th><th scope=col>sex</th><th scope=col>age</th><th scope=col>home</th><th scope=col>math</th><th scope=col>work</th><th scope=col>own</th><th scope=col>cdrom</th><th scope=col>email</th><th scope=col>grade</th></tr></thead>\n",
       "<tbody>\n",
       "\t<tr><td>2 </td><td>3 </td><td>3 </td><td>2 </td><td>0 </td><td>1 </td><td>0 </td><td>19</td><td>1 </td><td>0 </td><td>10</td><td>1 </td><td>0 </td><td>1 </td><td>4 </td></tr>\n",
       "\t<tr><td>0 </td><td>3 </td><td>3 </td><td>3 </td><td>0 </td><td>0 </td><td>0 </td><td>18</td><td>1 </td><td>1 </td><td> 0</td><td>1 </td><td>1 </td><td>1 </td><td>2 </td></tr>\n",
       "\t<tr><td>0 </td><td>3 </td><td>1 </td><td>3 </td><td>0 </td><td>0 </td><td>1 </td><td>19</td><td>1 </td><td>0 </td><td> 0</td><td>1 </td><td>0 </td><td>1 </td><td>3 </td></tr>\n",
       "</tbody>\n",
       "</table>\n"
      ],
      "text/latex": [
       "\\begin{tabular}{r|lllllllllllllll}\n",
       " time & like & where & freq & busy & educ & sex & age & home & math & work & own & cdrom & email & grade\\\\\n",
       "\\hline\n",
       "\t 2  & 3  & 3  & 2  & 0  & 1  & 0  & 19 & 1  & 0  & 10 & 1  & 0  & 1  & 4 \\\\\n",
       "\t 0  & 3  & 3  & 3  & 0  & 0  & 0  & 18 & 1  & 1  &  0 & 1  & 1  & 1  & 2 \\\\\n",
       "\t 0  & 3  & 1  & 3  & 0  & 0  & 1  & 19 & 1  & 0  &  0 & 1  & 0  & 1  & 3 \\\\\n",
       "\\end{tabular}\n"
      ],
      "text/markdown": [
       "\n",
       "| time | like | where | freq | busy | educ | sex | age | home | math | work | own | cdrom | email | grade |\n",
       "|---|---|---|---|---|---|---|---|---|---|---|---|---|---|---|\n",
       "| 2  | 3  | 3  | 2  | 0  | 1  | 0  | 19 | 1  | 0  | 10 | 1  | 0  | 1  | 4  |\n",
       "| 0  | 3  | 3  | 3  | 0  | 0  | 0  | 18 | 1  | 1  |  0 | 1  | 1  | 1  | 2  |\n",
       "| 0  | 3  | 1  | 3  | 0  | 0  | 1  | 19 | 1  | 0  |  0 | 1  | 0  | 1  | 3  |\n",
       "\n"
      ],
      "text/plain": [
       "  time like where freq busy educ sex age home math work own cdrom email grade\n",
       "1 2    3    3     2    0    1    0   19  1    0    10   1   0     1     4    \n",
       "2 0    3    3     3    0    0    0   18  1    1     0   1   1     1     2    \n",
       "3 0    3    1     3    0    0    1   19  1    0     0   1   0     1     3    "
      ]
     },
     "metadata": {},
     "output_type": "display_data"
    }
   ],
   "source": [
    "head(vd, 3)"
   ]
  },
  {
   "cell_type": "code",
   "execution_count": 169,
   "metadata": {},
   "outputs": [
    {
     "data": {
      "text/html": [
       "1.59223958333333"
      ],
      "text/latex": [
       "1.59223958333333"
      ],
      "text/markdown": [
       "1.59223958333333"
      ],
      "text/plain": [
       "[1] 1.59224"
      ]
     },
     "metadata": {},
     "output_type": "display_data"
    },
    {
     "data": {
      "text/html": [
       "'boot'"
      ],
      "text/latex": [
       "'boot'"
      ],
      "text/markdown": [
       "'boot'"
      ],
      "text/plain": [
       "[1] \"boot\""
      ]
     },
     "metadata": {},
     "output_type": "display_data"
    },
    {
     "name": "stderr",
     "output_type": "stream",
     "text": [
      "Warning message in norm.inter(t, adj.alpha):\n",
      "\"extreme order statistics used as endpoints\""
     ]
    },
    {
     "data": {
      "text/plain": [
       "BOOTSTRAP CONFIDENCE INTERVAL CALCULATIONS\n",
       "Based on 400 bootstrap replicates\n",
       "\n",
       "CALL : \n",
       "boot.ci(boot.out = bootcorr, type = c(\"norm\", \"basic\", \"perc\", \n",
       "    \"bca\"))\n",
       "\n",
       "Intervals : \n",
       "Level      Normal              Basic         \n",
       "95%   (-0.719,  4.118 )   (-1.041,  3.125 )  \n",
       "\n",
       "Level     Percentile            BCa          \n",
       "95%   ( 0.167,  4.332 )   ( 0.312,  6.354 )  \n",
       "Calculations and Intervals on Original Scale\n",
       "Warning : BCa Intervals used Extreme Quantiles\n",
       "Some BCa intervals may be unstable"
      ]
     },
     "metadata": {},
     "output_type": "display_data"
    }
   ],
   "source": [
    "ft = vd[vd$own!=99,]\n",
    "f1 <- ft[ft$own==1,]\n",
    "f2 <- ft[ft$own==0,]\n",
    "\n",
    "fc <- function(d, i){\n",
    "    d2 <- d[i,]\n",
    "    return(mean(d2$time))\n",
    "}\n",
    "set.seed(100)\n",
    "bootcorr <- boot(f2, fc, R=400)\n",
    "mean(bootcorr$t)\n",
    "class(bootcorr)\n",
    "res <- boot.ci(boot.out = bootcorr, type = c(\"norm\", \"basic\", \"perc\", \"bca\"))\n",
    "res"
   ]
  },
  {
   "cell_type": "code",
   "execution_count": 170,
   "metadata": {},
   "outputs": [
    {
     "ename": "ERROR",
     "evalue": "Error in png(tf, width, height, \"in\", pointsize, bg, res, antialias = antialias): unable to start png() device\n",
     "output_type": "error",
     "traceback": [
      "Error in png(tf, width, height, \"in\", pointsize, bg, res, antialias = antialias): unable to start png() device\nTraceback:\n"
     ]
    },
    {
     "data": {
      "text/plain": [
       "plot without title"
      ]
     },
     "metadata": {},
     "output_type": "display_data"
    }
   ],
   "source": [
    "# run this is in RStudio to see plot\n",
    "\n",
    "a0 <- .47\n",
    "a1 <- 1.692\n",
    "mid0 <- ((a0 + a1) / 2) + a0\n",
    "\n",
    "b0 <- 0\n",
    "b1 <- 4.118\n",
    "mid1 <- ((b0 + b1) / 2) + b0\n",
    "\n",
    "\n",
    "vals <- data.frame(\n",
    "    condition=c(\"Computer\", \"No Computer\"),\n",
    "    value=c(mid0, mid1),\n",
    "    ci=c(mid0-a0, mid1-b0)\n",
    ")\n",
    "\n",
    "ggplot(vals, aes(x=condition, y=value, group=1)) +\n",
    "    geom_errorbar(width=.2, aes(ymin=value-ci, ymax=value+ci), colour=\"black\") +\n",
    "    geom_point(shape=21, size=3, fill=\"black\") + \n",
    "    labs(title=\"95% Confidence Intervals of Videogame Time vs Owning Computer\",\n",
    "        x=\"Owning Computer\",\n",
    "        y=\"Prior Week Hours Playing Videogames\")\n"
   ]
  },
  {
   "cell_type": "code",
   "execution_count": null,
   "metadata": {},
   "outputs": [],
   "source": []
  }
 ],
 "metadata": {
  "kernelspec": {
   "display_name": "R",
   "language": "R",
   "name": "ir"
  },
  "language_info": {
   "codemirror_mode": "r",
   "file_extension": ".r",
   "mimetype": "text/x-r-source",
   "name": "R",
   "pygments_lexer": "r",
   "version": "3.6.1"
  }
 },
 "nbformat": 4,
 "nbformat_minor": 4
}
