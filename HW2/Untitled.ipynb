{
 "cells": [
  {
   "cell_type": "code",
   "execution_count": 1,
   "metadata": {},
   "outputs": [
    {
     "name": "stderr",
     "output_type": "stream",
     "text": [
      "Warning message:\n",
      "\"package 'ggplot2' was built under R version 3.6.3\""
     ]
    }
   ],
   "source": [
    "library(ggplot2)"
   ]
  },
  {
   "cell_type": "code",
   "execution_count": 7,
   "metadata": {},
   "outputs": [
    {
     "data": {
      "text/html": [
       "<table>\n",
       "<thead><tr><th scope=col>time</th><th scope=col>like</th><th scope=col>where</th><th scope=col>freq</th><th scope=col>busy</th><th scope=col>educ</th><th scope=col>sex</th><th scope=col>age</th><th scope=col>home</th><th scope=col>math</th><th scope=col>work</th><th scope=col>own</th><th scope=col>cdrom</th><th scope=col>email</th><th scope=col>grade</th></tr></thead>\n",
       "<tbody>\n",
       "\t<tr><td>2 </td><td>3 </td><td>3 </td><td>2 </td><td>0 </td><td>1 </td><td>0 </td><td>19</td><td>1 </td><td>0 </td><td>10</td><td>1 </td><td>0 </td><td>1 </td><td>4 </td></tr>\n",
       "\t<tr><td>0 </td><td>3 </td><td>3 </td><td>3 </td><td>0 </td><td>0 </td><td>0 </td><td>18</td><td>1 </td><td>1 </td><td> 0</td><td>1 </td><td>1 </td><td>1 </td><td>2 </td></tr>\n",
       "\t<tr><td>0 </td><td>3 </td><td>1 </td><td>3 </td><td>0 </td><td>0 </td><td>1 </td><td>19</td><td>1 </td><td>0 </td><td> 0</td><td>1 </td><td>0 </td><td>1 </td><td>3 </td></tr>\n",
       "</tbody>\n",
       "</table>\n"
      ],
      "text/latex": [
       "\\begin{tabular}{r|lllllllllllllll}\n",
       " time & like & where & freq & busy & educ & sex & age & home & math & work & own & cdrom & email & grade\\\\\n",
       "\\hline\n",
       "\t 2  & 3  & 3  & 2  & 0  & 1  & 0  & 19 & 1  & 0  & 10 & 1  & 0  & 1  & 4 \\\\\n",
       "\t 0  & 3  & 3  & 3  & 0  & 0  & 0  & 18 & 1  & 1  &  0 & 1  & 1  & 1  & 2 \\\\\n",
       "\t 0  & 3  & 1  & 3  & 0  & 0  & 1  & 19 & 1  & 0  &  0 & 1  & 0  & 1  & 3 \\\\\n",
       "\\end{tabular}\n"
      ],
      "text/markdown": [
       "\n",
       "| time | like | where | freq | busy | educ | sex | age | home | math | work | own | cdrom | email | grade |\n",
       "|---|---|---|---|---|---|---|---|---|---|---|---|---|---|---|\n",
       "| 2  | 3  | 3  | 2  | 0  | 1  | 0  | 19 | 1  | 0  | 10 | 1  | 0  | 1  | 4  |\n",
       "| 0  | 3  | 3  | 3  | 0  | 0  | 0  | 18 | 1  | 1  |  0 | 1  | 1  | 1  | 2  |\n",
       "| 0  | 3  | 1  | 3  | 0  | 0  | 1  | 19 | 1  | 0  |  0 | 1  | 0  | 1  | 3  |\n",
       "\n"
      ],
      "text/plain": [
       "  time like where freq busy educ sex age home math work own cdrom email grade\n",
       "1 2    3    3     2    0    1    0   19  1    0    10   1   0     1     4    \n",
       "2 0    3    3     3    0    0    0   18  1    1     0   1   1     1     2    \n",
       "3 0    3    1     3    0    0    1   19  1    0     0   1   0     1     3    "
      ]
     },
     "metadata": {},
     "output_type": "display_data"
    }
   ],
   "source": [
    "vd = read.table('videodata.txt', header=1)\n",
    "head(vd, 3)"
   ]
  },
  {
   "cell_type": "code",
   "execution_count": 8,
   "metadata": {},
   "outputs": [],
   "source": [
    "vm = read.table('videoMultiple.txt', header=1)\n",
    "# head(vm, 3)"
   ]
  },
  {
   "cell_type": "markdown",
   "metadata": {},
   "source": [
    "Scenario 1: Begin by providing an estimate for the fraction of students who played a video game in the week prior to the survey. Provide an interval estimate as well as a point estimate for this proportion."
   ]
  },
  {
   "cell_type": "code",
   "execution_count": 65,
   "metadata": {},
   "outputs": [
    {
     "data": {
      "text/html": [
       "'95% interval estimate'"
      ],
      "text/latex": [
       "'95\\% interval estimate'"
      ],
      "text/markdown": [
       "'95% interval estimate'"
      ],
      "text/plain": [
       "[1] \"95% interval estimate\""
      ]
     },
     "metadata": {},
     "output_type": "display_data"
    },
    {
     "data": {
      "text/html": [
       "<ol class=list-inline>\n",
       "\t<li>0.273681084117089</li>\n",
       "\t<li>0.473571663135659</li>\n",
       "</ol>\n"
      ],
      "text/latex": [
       "\\begin{enumerate*}\n",
       "\\item 0.273681084117089\n",
       "\\item 0.473571663135659\n",
       "\\end{enumerate*}\n"
      ],
      "text/markdown": [
       "1. 0.273681084117089\n",
       "2. 0.473571663135659\n",
       "\n",
       "\n"
      ],
      "text/plain": [
       "[1] 0.2736811 0.4735717"
      ]
     },
     "metadata": {},
     "output_type": "display_data"
    },
    {
     "data": {
      "text/html": [
       "'point estimate'"
      ],
      "text/latex": [
       "'point estimate'"
      ],
      "text/markdown": [
       "'point estimate'"
      ],
      "text/plain": [
       "[1] \"point estimate\""
      ]
     },
     "metadata": {},
     "output_type": "display_data"
    },
    {
     "data": {
      "text/html": [
       "0.373626373626374"
      ],
      "text/latex": [
       "0.373626373626374"
      ],
      "text/markdown": [
       "0.373626373626374"
      ],
      "text/plain": [
       "[1] 0.3736264"
      ]
     },
     "metadata": {},
     "output_type": "display_data"
    }
   ],
   "source": [
    "# finding a 95% interval estimate and a point estimate\n",
    "# for students who played any amount of videogames in past week\n",
    "did_play_in_week_prior <- vd$time>0\n",
    "total_students = nrow(vd)\n",
    "n <- total_students;\n",
    "standard_deviation <- sd(did_play_in_week_prior);\n",
    "standard_error_of_mean <- standard_deviation/sqrt(n);\n",
    "margin_of_error = qnorm(.975)*standard_error_of_mean;\n",
    "m = mean(did_play_in_week_prior)\n",
    "\"95% interval estimate\"\n",
    "m + c(-margin_of_error, margin_of_error)\n",
    "\"point estimate\"\n",
    "m"
   ]
  },
  {
   "cell_type": "markdown",
   "metadata": {},
   "source": [
    "Scenario 2: Check to see how the amount of time spent playing videogames in the week prior to the survey compares to the reported frequency of play (daily, weekly, etc.) How might the fact that there was an exam in the week prior to the survey affect your previous estimates and this comparison?"
   ]
  },
  {
   "cell_type": "code",
   "execution_count": 75,
   "metadata": {},
   "outputs": [
    {
     "data": {
      "text/html": [
       "'95% interval estimate'"
      ],
      "text/latex": [
       "'95\\% interval estimate'"
      ],
      "text/markdown": [
       "'95% interval estimate'"
      ],
      "text/plain": [
       "[1] \"95% interval estimate\""
      ]
     },
     "metadata": {},
     "output_type": "display_data"
    },
    {
     "data": {
      "text/html": [
       "<ol class=list-inline>\n",
       "\t<li>0.362826608127619</li>\n",
       "\t<li>0.58589134059033</li>\n",
       "</ol>\n"
      ],
      "text/latex": [
       "\\begin{enumerate*}\n",
       "\\item 0.362826608127619\n",
       "\\item 0.58589134059033\n",
       "\\end{enumerate*}\n"
      ],
      "text/markdown": [
       "1. 0.362826608127619\n",
       "2. 0.58589134059033\n",
       "\n",
       "\n"
      ],
      "text/plain": [
       "[1] 0.3628266 0.5858913"
      ]
     },
     "metadata": {},
     "output_type": "display_data"
    },
    {
     "data": {
      "text/html": [
       "'point estimate'"
      ],
      "text/latex": [
       "'point estimate'"
      ],
      "text/markdown": [
       "'point estimate'"
      ],
      "text/plain": [
       "[1] \"point estimate\""
      ]
     },
     "metadata": {},
     "output_type": "display_data"
    },
    {
     "data": {
      "text/html": [
       "0.474358974358974"
      ],
      "text/latex": [
       "0.474358974358974"
      ],
      "text/markdown": [
       "0.474358974358974"
      ],
      "text/plain": [
       "[1] 0.474359"
      ]
     },
     "metadata": {},
     "output_type": "display_data"
    }
   ],
   "source": [
    "# finding a 95% interval estimate and a point estimate\n",
    "# for students who reported to play videogames daily or weekly\n",
    "filtered = vd[vd$freq!=99,]\n",
    "reported_daily_or_weekly <- filtered$freq<3\n",
    "n <- length(reported_daily_or_weekly)\n",
    "m <- mean(reported_daily_or_weekly)\n",
    "standard_deviation <- sd(reported_daily_or_weekly);\n",
    "standard_error_of_mean <- standard_deviation/sqrt(n);\n",
    "margin_of_error = qnorm(.975)*standard_error_of_mean;\n",
    "\"95% interval estimate\"\n",
    "m + c(-margin_of_error, margin_of_error)\n",
    "\"point estimate\"\n",
    "m"
   ]
  },
  {
   "cell_type": "markdown",
   "metadata": {},
   "source": [
    "Scenario 3: Consider making an interval estimate for the average amount of time spent playing videogames in the week prior to the survey. Keep in mind the overall shape of the sample distribution. A simulation study may help determine the appropriateness of an interval estimate."
   ]
  },
  {
   "cell_type": "code",
   "execution_count": 77,
   "metadata": {},
   "outputs": [
    {
     "data": {
      "text/html": [
       "'95% interval estimate'"
      ],
      "text/latex": [
       "'95\\% interval estimate'"
      ],
      "text/markdown": [
       "'95% interval estimate'"
      ],
      "text/plain": [
       "[1] \"95% interval estimate\""
      ]
     },
     "metadata": {},
     "output_type": "display_data"
    },
    {
     "data": {
      "text/html": [
       "<ol class=list-inline>\n",
       "\t<li>0.46682629007255</li>\n",
       "\t<li>2.01888799564174</li>\n",
       "</ol>\n"
      ],
      "text/latex": [
       "\\begin{enumerate*}\n",
       "\\item 0.46682629007255\n",
       "\\item 2.01888799564174\n",
       "\\end{enumerate*}\n"
      ],
      "text/markdown": [
       "1. 0.46682629007255\n",
       "2. 2.01888799564174\n",
       "\n",
       "\n"
      ],
      "text/plain": [
       "[1] 0.4668263 2.0188880"
      ]
     },
     "metadata": {},
     "output_type": "display_data"
    }
   ],
   "source": [
    "# finding a 95% interval estimate and a point estimate\n",
    "# for students who played any amount of videogames in past week\n",
    "total_students = nrow(vd)\n",
    "n <- total_students;\n",
    "standard_deviation <- sd(vd$time);\n",
    "standard_error_of_mean <- standard_deviation/sqrt(n);\n",
    "margin_of_error = qnorm(.975)*standard_error_of_mean;\n",
    "m = mean(vd$time)\n",
    "\"95% interval estimate\"\n",
    "m + c(-margin_of_error, margin_of_error)"
   ]
  },
  {
   "cell_type": "code",
   "execution_count": 88,
   "metadata": {},
   "outputs": [
    {
     "name": "stderr",
     "output_type": "stream",
     "text": [
      "`stat_bin()` using `bins = 30`. Pick better value with `binwidth`.\n"
     ]
    },
    {
     "data": {
      "image/png": "[encoded data removed]",
      "text/plain": [
       "plot without title"
      ]
     },
     "metadata": {},
     "output_type": "display_data"
    }
   ],
   "source": [
    "p = ggplot(vd, aes(time)) + \n",
    "    geom_histogram(alpha=.5, aes(y=..density..), position='identity')\n",
    "p + labs(title=\"Percentages of students playing different amounts of videogames\",\n",
    "        x=\"# Hours\",\n",
    "        y=\"% Students\")"
   ]
  },
  {
   "cell_type": "markdown",
   "metadata": {},
   "source": [
    "Scenario 4: Next, consider the \"attitude\" questions. In general, do you think the students enjoy playing videogames? If you had to make a short list of the most important reasons why students like/dislike videogames, what would you put on the list? Don't forget that those students who say that they have never played videogames or do not at all like videogames are asked to skip over some of these questions. So, there may be many nonrespondents to the questions as to whether they think videogames are educational, where they play videogames, etc."
   ]
  },
  {
   "cell_type": "code",
   "execution_count": 130,
   "metadata": {},
   "outputs": [
    {
     "name": "stdout",
     "output_type": "stream",
     "text": [
      "total # students: 91 \n",
      "students very much or somewhat liking videogames: 69 \n"
     ]
    },
    {
     "data": {
      "text/html": [
       "'0 is female, 1 is male'"
      ],
      "text/latex": [
       "'0 is female, 1 is male'"
      ],
      "text/markdown": [
       "'0 is female, 1 is male'"
      ],
      "text/plain": [
       "[1] \"0 is female, 1 is male\""
      ]
     },
     "metadata": {},
     "output_type": "display_data"
    },
    {
     "name": "stdout",
     "output_type": "stream",
     "text": [
      "of students who like videogames, mean sex: 0.6231884 \n",
      "of other students, mean sex: 0.4545455 \n"
     ]
    }
   ],
   "source": [
    "cat(\"total # students:\", nrow(vd), \"\\n\")\n",
    "likers <- vd[vd$like==2|vd$like==3,]\n",
    "dislikers <- vd[vd$like!=2&vd$like!=3,]\n",
    "cat(\"students very much or somewhat liking videogames:\", nrow(likers), \"\\n\")\n",
    "\n",
    "\"0 is female, 1 is male\"\n",
    "cat(\"of students who like videogames, mean sex:\", mean(likers$sex), \"\\n\")\n",
    "cat(\"of other students, mean sex:\", mean(dislikers$sex), \"\\n\")"
   ]
  },
  {
   "cell_type": "code",
   "execution_count": 137,
   "metadata": {},
   "outputs": [
    {
     "data": {
      "text/html": [
       "8.04545454545454"
      ],
      "text/latex": [
       "8.04545454545454"
      ],
      "text/markdown": [
       "8.04545454545454"
      ],
      "text/plain": [
       "[1] 8.045455"
      ]
     },
     "metadata": {},
     "output_type": "display_data"
    },
    {
     "data": {
      "text/html": [
       "5.27272727272727"
      ],
      "text/latex": [
       "5.27272727272727"
      ],
      "text/markdown": [
       "5.27272727272727"
      ],
      "text/plain": [
       "[1] 5.272727"
      ]
     },
     "metadata": {},
     "output_type": "display_data"
    }
   ],
   "source": [
    "mean(likers[likers$work != 99,]$work)\n",
    "mean(dislikers[dislikers$work != 99,]$work)"
   ]
  },
  {
   "cell_type": "code",
   "execution_count": 138,
   "metadata": {},
   "outputs": [
    {
     "data": {
      "text/html": [
       "<ol class=list-inline>\n",
       "\t<li>3</li>\n",
       "\t<li>99</li>\n",
       "\t<li>99</li>\n",
       "\t<li>99</li>\n",
       "\t<li>3</li>\n",
       "\t<li>3</li>\n",
       "\t<li>3</li>\n",
       "\t<li>2</li>\n",
       "\t<li>3</li>\n",
       "\t<li>99</li>\n",
       "\t<li>99</li>\n",
       "\t<li>99</li>\n",
       "\t<li>99</li>\n",
       "\t<li>3</li>\n",
       "\t<li>3</li>\n",
       "\t<li>99</li>\n",
       "\t<li>2</li>\n",
       "\t<li>2</li>\n",
       "\t<li>99</li>\n",
       "\t<li>99</li>\n",
       "\t<li>99</li>\n",
       "\t<li>99</li>\n",
       "</ol>\n"
      ],
      "text/latex": [
       "\\begin{enumerate*}\n",
       "\\item 3\n",
       "\\item 99\n",
       "\\item 99\n",
       "\\item 99\n",
       "\\item 3\n",
       "\\item 3\n",
       "\\item 3\n",
       "\\item 2\n",
       "\\item 3\n",
       "\\item 99\n",
       "\\item 99\n",
       "\\item 99\n",
       "\\item 99\n",
       "\\item 3\n",
       "\\item 3\n",
       "\\item 99\n",
       "\\item 2\n",
       "\\item 2\n",
       "\\item 99\n",
       "\\item 99\n",
       "\\item 99\n",
       "\\item 99\n",
       "\\end{enumerate*}\n"
      ],
      "text/markdown": [
       "1. 3\n",
       "2. 99\n",
       "3. 99\n",
       "4. 99\n",
       "5. 3\n",
       "6. 3\n",
       "7. 3\n",
       "8. 2\n",
       "9. 3\n",
       "10. 99\n",
       "11. 99\n",
       "12. 99\n",
       "13. 99\n",
       "14. 3\n",
       "15. 3\n",
       "16. 99\n",
       "17. 2\n",
       "18. 2\n",
       "19. 99\n",
       "20. 99\n",
       "21. 99\n",
       "22. 99\n",
       "\n",
       "\n"
      ],
      "text/plain": [
       " [1]  3 99 99 99  3  3  3  2  3 99 99 99 99  3  3 99  2  2 99 99 99 99"
      ]
     },
     "metadata": {},
     "output_type": "display_data"
    }
   ],
   "source": [
    "dislikers$where"
   ]
  },
  {
   "cell_type": "code",
   "execution_count": 108,
   "metadata": {},
   "outputs": [
    {
     "data": {
      "text/html": [
       "<table>\n",
       "<thead><tr><th></th><th scope=col>time</th><th scope=col>like</th><th scope=col>where</th><th scope=col>freq</th><th scope=col>busy</th><th scope=col>educ</th><th scope=col>sex</th><th scope=col>age</th><th scope=col>home</th><th scope=col>math</th><th scope=col>work</th><th scope=col>own</th><th scope=col>cdrom</th><th scope=col>email</th><th scope=col>grade</th></tr></thead>\n",
       "<tbody>\n",
       "\t<tr><th scope=row>1</th><td>2.0</td><td>3  </td><td> 3 </td><td> 2 </td><td> 0 </td><td> 1 </td><td>0  </td><td>19 </td><td>1  </td><td>0  </td><td>10 </td><td>1  </td><td> 0 </td><td>1  </td><td>4  </td></tr>\n",
       "\t<tr><th scope=row>2</th><td>0.0</td><td>3  </td><td> 3 </td><td> 3 </td><td> 0 </td><td> 0 </td><td>0  </td><td>18 </td><td>1  </td><td>1  </td><td> 0 </td><td>1  </td><td> 1 </td><td>1  </td><td>2  </td></tr>\n",
       "\t<tr><th scope=row>3</th><td>0.0</td><td>3  </td><td> 1 </td><td> 3 </td><td> 0 </td><td> 0 </td><td>1  </td><td>19 </td><td>1  </td><td>0  </td><td> 0 </td><td>1  </td><td> 0 </td><td>1  </td><td>3  </td></tr>\n",
       "\t<tr><th scope=row>4</th><td>0.5</td><td>3  </td><td> 3 </td><td> 3 </td><td> 0 </td><td> 1 </td><td>0  </td><td>19 </td><td>1  </td><td>0  </td><td> 0 </td><td>1  </td><td> 0 </td><td>1  </td><td>3  </td></tr>\n",
       "\t<tr><th scope=row>5</th><td>0.0</td><td>3  </td><td> 3 </td><td> 4 </td><td> 0 </td><td> 1 </td><td>0  </td><td>19 </td><td>1  </td><td>1  </td><td> 0 </td><td>0  </td><td> 0 </td><td>1  </td><td>3  </td></tr>\n",
       "\t<tr><th scope=row>6</th><td>0.0</td><td>3  </td><td> 2 </td><td> 4 </td><td> 0 </td><td> 0 </td><td>1  </td><td>19 </td><td>0  </td><td>0  </td><td>12 </td><td>0  </td><td> 0 </td><td>0  </td><td>3  </td></tr>\n",
       "\t<tr><th scope=row>8</th><td>0.0</td><td>3  </td><td> 3 </td><td> 4 </td><td> 0 </td><td> 0 </td><td>0  </td><td>19 </td><td>1  </td><td>0  </td><td>13 </td><td>0  </td><td> 0 </td><td>1  </td><td>3  </td></tr>\n",
       "\t<tr><th scope=row>9</th><td>2.0</td><td>3  </td><td> 2 </td><td> 1 </td><td> 1 </td><td> 1 </td><td>1  </td><td>19 </td><td>0  </td><td>0  </td><td> 0 </td><td>0  </td><td> 0 </td><td>0  </td><td>4  </td></tr>\n",
       "\t<tr><th scope=row>10</th><td>0.0</td><td>3  </td><td> 3 </td><td> 4 </td><td> 0 </td><td> 1 </td><td>1  </td><td>19 </td><td>1  </td><td>1  </td><td> 0 </td><td>1  </td><td> 0 </td><td>1  </td><td>4  </td></tr>\n",
       "\t<tr><th scope=row>11</th><td>0.0</td><td>3  </td><td> 1 </td><td> 4 </td><td> 0 </td><td> 0 </td><td>0  </td><td>20 </td><td>1  </td><td>0  </td><td> 0 </td><td>1  </td><td> 0 </td><td>0  </td><td>3  </td></tr>\n",
       "\t<tr><th scope=row>12</th><td>0.0</td><td>3  </td><td> 2 </td><td> 4 </td><td> 0 </td><td> 0 </td><td>0  </td><td>19 </td><td>1  </td><td>0  </td><td> 0 </td><td>1  </td><td> 0 </td><td>1  </td><td>4  </td></tr>\n",
       "\t<tr><th scope=row>13</th><td>0.0</td><td>2  </td><td> 4 </td><td> 1 </td><td> 0 </td><td> 1 </td><td>0  </td><td>19 </td><td>1  </td><td>1  </td><td> 0 </td><td>0  </td><td> 0 </td><td>1  </td><td>4  </td></tr>\n",
       "\t<tr><th scope=row>14</th><td>3.0</td><td>3  </td><td> 3 </td><td> 2 </td><td> 1 </td><td> 0 </td><td>0  </td><td>18 </td><td>0  </td><td>0  </td><td> 0 </td><td>0  </td><td> 0 </td><td>1  </td><td>3  </td></tr>\n",
       "\t<tr><th scope=row>15</th><td>1.0</td><td>3  </td><td> 5 </td><td> 2 </td><td> 0 </td><td> 1 </td><td>0  </td><td>18 </td><td>1  </td><td>1  </td><td>14 </td><td>1  </td><td> 0 </td><td>1  </td><td>3  </td></tr>\n",
       "\t<tr><th scope=row>17</th><td>0.0</td><td>3  </td><td> 3 </td><td> 4 </td><td> 0 </td><td> 1 </td><td>1  </td><td>21 </td><td>1  </td><td>0  </td><td> 2 </td><td>1  </td><td> 0 </td><td>1  </td><td>4  </td></tr>\n",
       "\t<tr><th scope=row>18</th><td>0.0</td><td>3  </td><td> 2 </td><td> 3 </td><td> 0 </td><td> 0 </td><td>1  </td><td>20 </td><td>1  </td><td>0  </td><td> 0 </td><td>1  </td><td> 0 </td><td>1  </td><td>3  </td></tr>\n",
       "\t<tr><th scope=row>19</th><td>2.0</td><td>2  </td><td> 2 </td><td> 2 </td><td> 1 </td><td> 0 </td><td>1  </td><td>18 </td><td>1  </td><td>0  </td><td> 0 </td><td>1  </td><td> 0 </td><td>1  </td><td>4  </td></tr>\n",
       "\t<tr><th scope=row>20</th><td>0.0</td><td>3  </td><td>99 </td><td>99 </td><td>99 </td><td>99 </td><td>0  </td><td>19 </td><td>0  </td><td>0  </td><td> 9 </td><td>0  </td><td>99 </td><td>1  </td><td>3  </td></tr>\n",
       "\t<tr><th scope=row>21</th><td>2.0</td><td>3  </td><td> 2 </td><td> 2 </td><td> 0 </td><td> 1 </td><td>1  </td><td>20 </td><td>1  </td><td>0  </td><td>15 </td><td>1  </td><td> 0 </td><td>0  </td><td>4  </td></tr>\n",
       "\t<tr><th scope=row>22</th><td>0.0</td><td>3  </td><td> 2 </td><td> 3 </td><td> 0 </td><td> 1 </td><td>1  </td><td>24 </td><td>1  </td><td>0  </td><td>10 </td><td>0  </td><td> 0 </td><td>0  </td><td>4  </td></tr>\n",
       "\t<tr><th scope=row>23</th><td>2.0</td><td>3  </td><td> 3 </td><td> 1 </td><td> 1 </td><td> 1 </td><td>1  </td><td>19 </td><td>0  </td><td>0  </td><td> 0 </td><td>1  </td><td> 0 </td><td>1  </td><td>4  </td></tr>\n",
       "\t<tr><th scope=row>26</th><td>0.0</td><td>3  </td><td> 3 </td><td> 4 </td><td> 0 </td><td>99 </td><td>0  </td><td>20 </td><td>1  </td><td>1  </td><td> 0 </td><td>1  </td><td> 0 </td><td>1  </td><td>3  </td></tr>\n",
       "\t<tr><th scope=row>27</th><td>0.0</td><td>2  </td><td> 3 </td><td> 4 </td><td> 0 </td><td> 0 </td><td>1  </td><td>22 </td><td>1  </td><td>1  </td><td> 0 </td><td>1  </td><td> 1 </td><td>1  </td><td>4  </td></tr>\n",
       "\t<tr><th scope=row>28</th><td>0.0</td><td>3  </td><td> 2 </td><td> 3 </td><td> 0 </td><td> 0 </td><td>1  </td><td>18 </td><td>0  </td><td>0  </td><td>10 </td><td>0  </td><td> 0 </td><td>0  </td><td>3  </td></tr>\n",
       "\t<tr><th scope=row>32</th><td>1.0</td><td>3  </td><td> 5 </td><td> 2 </td><td> 0 </td><td> 1 </td><td>1  </td><td>19 </td><td>1  </td><td>0  </td><td>99 </td><td>1  </td><td> 1 </td><td>1  </td><td>3  </td></tr>\n",
       "\t<tr><th scope=row>34</th><td>0.0</td><td>2  </td><td> 1 </td><td> 3 </td><td> 0 </td><td> 0 </td><td>1  </td><td>19 </td><td>1  </td><td>0  </td><td>10 </td><td>0  </td><td> 0 </td><td>1  </td><td>3  </td></tr>\n",
       "\t<tr><th scope=row>35</th><td>0.0</td><td>3  </td><td> 3 </td><td> 1 </td><td> 0 </td><td> 1 </td><td>0  </td><td>19 </td><td>1  </td><td>0  </td><td>12 </td><td>1  </td><td> 0 </td><td>1  </td><td>3  </td></tr>\n",
       "\t<tr><th scope=row>36</th><td>0.1</td><td>2  </td><td> 6 </td><td> 2 </td><td> 0 </td><td> 1 </td><td>1  </td><td>18 </td><td>0  </td><td>0  </td><td> 5 </td><td>1  </td><td> 1 </td><td>1  </td><td>4  </td></tr>\n",
       "\t<tr><th scope=row>38</th><td>1.0</td><td>3  </td><td> 4 </td><td> 4 </td><td>99 </td><td> 1 </td><td>0  </td><td>20 </td><td>1  </td><td>0  </td><td> 0 </td><td>1  </td><td> 0 </td><td>1  </td><td>3  </td></tr>\n",
       "\t<tr><th scope=row>39</th><td>0.0</td><td>3  </td><td> 1 </td><td> 4 </td><td> 0 </td><td> 0 </td><td>0  </td><td>19 </td><td>0  </td><td>0  </td><td> 0 </td><td>0  </td><td> 0 </td><td>1  </td><td>3  </td></tr>\n",
       "\t<tr><th scope=row>...</th><td>...</td><td>...</td><td>...</td><td>...</td><td>...</td><td>...</td><td>...</td><td>...</td><td>...</td><td>...</td><td>...</td><td>...</td><td>...</td><td>...</td><td>...</td></tr>\n",
       "\t<tr><th scope=row>53</th><td> 0.5</td><td>3   </td><td> 2  </td><td>2   </td><td>0   </td><td> 0  </td><td>1   </td><td>19  </td><td>1   </td><td>0   </td><td>16  </td><td>1   </td><td> 0  </td><td>1   </td><td>3   </td></tr>\n",
       "\t<tr><th scope=row>54</th><td> 3.0</td><td>2   </td><td> 3  </td><td>1   </td><td>0   </td><td> 1  </td><td>1   </td><td>18  </td><td>1   </td><td>0   </td><td> 7  </td><td>1   </td><td> 0  </td><td>1   </td><td>3   </td></tr>\n",
       "\t<tr><th scope=row>55</th><td> 0.0</td><td>3   </td><td> 1  </td><td>3   </td><td>0   </td><td> 0  </td><td>1   </td><td>19  </td><td>0   </td><td>0   </td><td>15  </td><td>0   </td><td> 0  </td><td>1   </td><td>3   </td></tr>\n",
       "\t<tr><th scope=row>58</th><td> 4.0</td><td>2   </td><td>99  </td><td>1   </td><td>1   </td><td> 1  </td><td>1   </td><td>20  </td><td>1   </td><td>0   </td><td> 6  </td><td>1   </td><td> 0  </td><td>0   </td><td>4   </td></tr>\n",
       "\t<tr><th scope=row>59</th><td>30.0</td><td>2   </td><td>99  </td><td>2   </td><td>1   </td><td> 0  </td><td>1   </td><td>19  </td><td>0   </td><td>1   </td><td> 0  </td><td>0   </td><td> 0  </td><td>1   </td><td>3   </td></tr>\n",
       "\t<tr><th scope=row>60</th><td>14.0</td><td>2   </td><td>99  </td><td>1   </td><td>1   </td><td> 0  </td><td>0   </td><td>19  </td><td>1   </td><td>0   </td><td> 0  </td><td>1   </td><td> 0  </td><td>1   </td><td>2   </td></tr>\n",
       "\t<tr><th scope=row>61</th><td> 0.0</td><td>3   </td><td> 1  </td><td>3   </td><td>0   </td><td> 1  </td><td>1   </td><td>19  </td><td>0   </td><td>0   </td><td> 0  </td><td>0   </td><td> 0  </td><td>0   </td><td>3   </td></tr>\n",
       "\t<tr><th scope=row>62</th><td> 0.0</td><td>2   </td><td>99  </td><td>3   </td><td>0   </td><td> 1  </td><td>0   </td><td>21  </td><td>0   </td><td>0   </td><td>18  </td><td>1   </td><td> 0  </td><td>0   </td><td>2   </td></tr>\n",
       "\t<tr><th scope=row>64</th><td> 0.5</td><td>2   </td><td> 3  </td><td>2   </td><td>1   </td><td> 1  </td><td>1   </td><td>19  </td><td>1   </td><td>0   </td><td>20  </td><td>1   </td><td> 1  </td><td>1   </td><td>4   </td></tr>\n",
       "\t<tr><th scope=row>65</th><td>14.0</td><td>2   </td><td> 4  </td><td>1   </td><td>1   </td><td> 1  </td><td>1   </td><td>18  </td><td>1   </td><td>0   </td><td>35  </td><td>1   </td><td> 1  </td><td>1   </td><td>3   </td></tr>\n",
       "\t<tr><th scope=row>66</th><td> 1.0</td><td>2   </td><td> 4  </td><td>2   </td><td>0   </td><td> 1  </td><td>1   </td><td>19  </td><td>1   </td><td>0   </td><td>19  </td><td>1   </td><td> 0  </td><td>1   </td><td>4   </td></tr>\n",
       "\t<tr><th scope=row>68</th><td> 0.0</td><td>2   </td><td> 5  </td><td>2   </td><td>1   </td><td> 1  </td><td>1   </td><td>20  </td><td>1   </td><td>1   </td><td>20  </td><td>0   </td><td> 0  </td><td>1   </td><td>4   </td></tr>\n",
       "\t<tr><th scope=row>69</th><td> 1.5</td><td>3   </td><td> 3  </td><td>2   </td><td>0   </td><td> 1  </td><td>0   </td><td>19  </td><td>1   </td><td>1   </td><td> 8  </td><td>1   </td><td> 0  </td><td>0   </td><td>3   </td></tr>\n",
       "\t<tr><th scope=row>71</th><td> 0.0</td><td>3   </td><td> 4  </td><td>3   </td><td>0   </td><td> 0  </td><td>1   </td><td>19  </td><td>1   </td><td>1   </td><td> 0  </td><td>1   </td><td> 0  </td><td>1   </td><td>3   </td></tr>\n",
       "\t<tr><th scope=row>72</th><td> 2.0</td><td>2   </td><td>99  </td><td>2   </td><td>1   </td><td>99  </td><td>1   </td><td>20  </td><td>1   </td><td>0   </td><td>10  </td><td>1   </td><td> 1  </td><td>1   </td><td>3   </td></tr>\n",
       "\t<tr><th scope=row>74</th><td> 0.0</td><td>3   </td><td> 3  </td><td>2   </td><td>0   </td><td> 0  </td><td>1   </td><td>23  </td><td>0   </td><td>0   </td><td> 0  </td><td>1   </td><td> 0  </td><td>1   </td><td>4   </td></tr>\n",
       "\t<tr><th scope=row>76</th><td> 0.0</td><td>2   </td><td> 3  </td><td>3   </td><td>0   </td><td> 1  </td><td>0   </td><td>20  </td><td>0   </td><td>0   </td><td> 0  </td><td>1   </td><td> 1  </td><td>1   </td><td>2   </td></tr>\n",
       "\t<tr><th scope=row>78</th><td> 0.0</td><td>3   </td><td> 3  </td><td>4   </td><td>0   </td><td> 0  </td><td>1   </td><td>19  </td><td>1   </td><td>0   </td><td>16  </td><td>0   </td><td> 0  </td><td>1   </td><td>3   </td></tr>\n",
       "\t<tr><th scope=row>79</th><td> 0.0</td><td>2   </td><td> 3  </td><td>3   </td><td>0   </td><td> 1  </td><td>1   </td><td>25  </td><td>0   </td><td>0   </td><td>55  </td><td>1   </td><td> 0  </td><td>1   </td><td>3   </td></tr>\n",
       "\t<tr><th scope=row>80</th><td> 2.0</td><td>2   </td><td> 1  </td><td>2   </td><td>0   </td><td> 1  </td><td>1   </td><td>19  </td><td>1   </td><td>0   </td><td>10  </td><td>1   </td><td> 0  </td><td>1   </td><td>3   </td></tr>\n",
       "\t<tr><th scope=row>81</th><td> 1.0</td><td>2   </td><td> 3  </td><td>1   </td><td>0   </td><td> 0  </td><td>1   </td><td>20  </td><td>1   </td><td>1   </td><td> 0  </td><td>1   </td><td> 0  </td><td>1   </td><td>4   </td></tr>\n",
       "\t<tr><th scope=row>83</th><td> 0.0</td><td>3   </td><td> 2  </td><td>4   </td><td>0   </td><td> 0  </td><td>0   </td><td>19  </td><td>0   </td><td>1   </td><td>15  </td><td>0   </td><td>99  </td><td>1   </td><td>2   </td></tr>\n",
       "\t<tr><th scope=row>84</th><td> 2.0</td><td>2   </td><td> 3  </td><td>2   </td><td>0   </td><td> 1  </td><td>1   </td><td>21  </td><td>0   </td><td>0   </td><td>15  </td><td>0   </td><td> 0  </td><td>1   </td><td>4   </td></tr>\n",
       "\t<tr><th scope=row>85</th><td> 0.0</td><td>3   </td><td> 2  </td><td>4   </td><td>0   </td><td> 0  </td><td>0   </td><td>18  </td><td>1   </td><td>1   </td><td>15  </td><td>0   </td><td>99  </td><td>0   </td><td>3   </td></tr>\n",
       "\t<tr><th scope=row>86</th><td> 2.0</td><td>2   </td><td> 4  </td><td>2   </td><td>1   </td><td> 0  </td><td>1   </td><td>19  </td><td>0   </td><td>0   </td><td> 0  </td><td>1   </td><td> 0  </td><td>1   </td><td>3   </td></tr>\n",
       "\t<tr><th scope=row>87</th><td> 2.0</td><td>3   </td><td> 4  </td><td>2   </td><td>1   </td><td> 0  </td><td>1   </td><td>19  </td><td>1   </td><td>0   </td><td> 0  </td><td>1   </td><td>99  </td><td>1   </td><td>4   </td></tr>\n",
       "\t<tr><th scope=row>88</th><td> 5.0</td><td>3   </td><td> 3  </td><td>2   </td><td>0   </td><td> 1  </td><td>0   </td><td>20  </td><td>1   </td><td>0   </td><td>14  </td><td>1   </td><td> 1  </td><td>1   </td><td>4   </td></tr>\n",
       "\t<tr><th scope=row>89</th><td> 0.0</td><td>2   </td><td> 5  </td><td>4   </td><td>0   </td><td> 1  </td><td>0   </td><td>33  </td><td>1   </td><td>0   </td><td>40  </td><td>1   </td><td> 0  </td><td>0   </td><td>2   </td></tr>\n",
       "\t<tr><th scope=row>90</th><td> 3.0</td><td>3   </td><td> 3  </td><td>2   </td><td>0   </td><td> 0  </td><td>1   </td><td>19  </td><td>1   </td><td>0   </td><td> 5  </td><td>1   </td><td> 1  </td><td>1   </td><td>3   </td></tr>\n",
       "\t<tr><th scope=row>91</th><td> 0.0</td><td>3   </td><td> 4  </td><td>3   </td><td>0   </td><td> 1  </td><td>0   </td><td>19  </td><td>0   </td><td>1   </td><td> 5  </td><td>1   </td><td> 0  </td><td>1   </td><td>2   </td></tr>\n",
       "</tbody>\n",
       "</table>\n"
      ],
      "text/latex": [
       "\\begin{tabular}{r|lllllllllllllll}\n",
       "  & time & like & where & freq & busy & educ & sex & age & home & math & work & own & cdrom & email & grade\\\\\n",
       "\\hline\n",
       "\t1 & 2.0 & 3   &  3  &  2  &  0  &  1  & 0   & 19  & 1   & 0   & 10  & 1   &  0  & 1   & 4  \\\\\n",
       "\t2 & 0.0 & 3   &  3  &  3  &  0  &  0  & 0   & 18  & 1   & 1   &  0  & 1   &  1  & 1   & 2  \\\\\n",
       "\t3 & 0.0 & 3   &  1  &  3  &  0  &  0  & 1   & 19  & 1   & 0   &  0  & 1   &  0  & 1   & 3  \\\\\n",
       "\t4 & 0.5 & 3   &  3  &  3  &  0  &  1  & 0   & 19  & 1   & 0   &  0  & 1   &  0  & 1   & 3  \\\\\n",
       "\t5 & 0.0 & 3   &  3  &  4  &  0  &  1  & 0   & 19  & 1   & 1   &  0  & 0   &  0  & 1   & 3  \\\\\n",
       "\t6 & 0.0 & 3   &  2  &  4  &  0  &  0  & 1   & 19  & 0   & 0   & 12  & 0   &  0  & 0   & 3  \\\\\n",
       "\t8 & 0.0 & 3   &  3  &  4  &  0  &  0  & 0   & 19  & 1   & 0   & 13  & 0   &  0  & 1   & 3  \\\\\n",
       "\t9 & 2.0 & 3   &  2  &  1  &  1  &  1  & 1   & 19  & 0   & 0   &  0  & 0   &  0  & 0   & 4  \\\\\n",
       "\t10 & 0.0 & 3   &  3  &  4  &  0  &  1  & 1   & 19  & 1   & 1   &  0  & 1   &  0  & 1   & 4  \\\\\n",
       "\t11 & 0.0 & 3   &  1  &  4  &  0  &  0  & 0   & 20  & 1   & 0   &  0  & 1   &  0  & 0   & 3  \\\\\n",
       "\t12 & 0.0 & 3   &  2  &  4  &  0  &  0  & 0   & 19  & 1   & 0   &  0  & 1   &  0  & 1   & 4  \\\\\n",
       "\t13 & 0.0 & 2   &  4  &  1  &  0  &  1  & 0   & 19  & 1   & 1   &  0  & 0   &  0  & 1   & 4  \\\\\n",
       "\t14 & 3.0 & 3   &  3  &  2  &  1  &  0  & 0   & 18  & 0   & 0   &  0  & 0   &  0  & 1   & 3  \\\\\n",
       "\t15 & 1.0 & 3   &  5  &  2  &  0  &  1  & 0   & 18  & 1   & 1   & 14  & 1   &  0  & 1   & 3  \\\\\n",
       "\t17 & 0.0 & 3   &  3  &  4  &  0  &  1  & 1   & 21  & 1   & 0   &  2  & 1   &  0  & 1   & 4  \\\\\n",
       "\t18 & 0.0 & 3   &  2  &  3  &  0  &  0  & 1   & 20  & 1   & 0   &  0  & 1   &  0  & 1   & 3  \\\\\n",
       "\t19 & 2.0 & 2   &  2  &  2  &  1  &  0  & 1   & 18  & 1   & 0   &  0  & 1   &  0  & 1   & 4  \\\\\n",
       "\t20 & 0.0 & 3   & 99  & 99  & 99  & 99  & 0   & 19  & 0   & 0   &  9  & 0   & 99  & 1   & 3  \\\\\n",
       "\t21 & 2.0 & 3   &  2  &  2  &  0  &  1  & 1   & 20  & 1   & 0   & 15  & 1   &  0  & 0   & 4  \\\\\n",
       "\t22 & 0.0 & 3   &  2  &  3  &  0  &  1  & 1   & 24  & 1   & 0   & 10  & 0   &  0  & 0   & 4  \\\\\n",
       "\t23 & 2.0 & 3   &  3  &  1  &  1  &  1  & 1   & 19  & 0   & 0   &  0  & 1   &  0  & 1   & 4  \\\\\n",
       "\t26 & 0.0 & 3   &  3  &  4  &  0  & 99  & 0   & 20  & 1   & 1   &  0  & 1   &  0  & 1   & 3  \\\\\n",
       "\t27 & 0.0 & 2   &  3  &  4  &  0  &  0  & 1   & 22  & 1   & 1   &  0  & 1   &  1  & 1   & 4  \\\\\n",
       "\t28 & 0.0 & 3   &  2  &  3  &  0  &  0  & 1   & 18  & 0   & 0   & 10  & 0   &  0  & 0   & 3  \\\\\n",
       "\t32 & 1.0 & 3   &  5  &  2  &  0  &  1  & 1   & 19  & 1   & 0   & 99  & 1   &  1  & 1   & 3  \\\\\n",
       "\t34 & 0.0 & 2   &  1  &  3  &  0  &  0  & 1   & 19  & 1   & 0   & 10  & 0   &  0  & 1   & 3  \\\\\n",
       "\t35 & 0.0 & 3   &  3  &  1  &  0  &  1  & 0   & 19  & 1   & 0   & 12  & 1   &  0  & 1   & 3  \\\\\n",
       "\t36 & 0.1 & 2   &  6  &  2  &  0  &  1  & 1   & 18  & 0   & 0   &  5  & 1   &  1  & 1   & 4  \\\\\n",
       "\t38 & 1.0 & 3   &  4  &  4  & 99  &  1  & 0   & 20  & 1   & 0   &  0  & 1   &  0  & 1   & 3  \\\\\n",
       "\t39 & 0.0 & 3   &  1  &  4  &  0  &  0  & 0   & 19  & 0   & 0   &  0  & 0   &  0  & 1   & 3  \\\\\n",
       "\t... & ... & ... & ... & ... & ... & ... & ... & ... & ... & ... & ... & ... & ... & ... & ...\\\\\n",
       "\t53 &  0.5 & 3    &  2   & 2    & 0    &  0   & 1    & 19   & 1    & 0    & 16   & 1    &  0   & 1    & 3   \\\\\n",
       "\t54 &  3.0 & 2    &  3   & 1    & 0    &  1   & 1    & 18   & 1    & 0    &  7   & 1    &  0   & 1    & 3   \\\\\n",
       "\t55 &  0.0 & 3    &  1   & 3    & 0    &  0   & 1    & 19   & 0    & 0    & 15   & 0    &  0   & 1    & 3   \\\\\n",
       "\t58 &  4.0 & 2    & 99   & 1    & 1    &  1   & 1    & 20   & 1    & 0    &  6   & 1    &  0   & 0    & 4   \\\\\n",
       "\t59 & 30.0 & 2    & 99   & 2    & 1    &  0   & 1    & 19   & 0    & 1    &  0   & 0    &  0   & 1    & 3   \\\\\n",
       "\t60 & 14.0 & 2    & 99   & 1    & 1    &  0   & 0    & 19   & 1    & 0    &  0   & 1    &  0   & 1    & 2   \\\\\n",
       "\t61 &  0.0 & 3    &  1   & 3    & 0    &  1   & 1    & 19   & 0    & 0    &  0   & 0    &  0   & 0    & 3   \\\\\n",
       "\t62 &  0.0 & 2    & 99   & 3    & 0    &  1   & 0    & 21   & 0    & 0    & 18   & 1    &  0   & 0    & 2   \\\\\n",
       "\t64 &  0.5 & 2    &  3   & 2    & 1    &  1   & 1    & 19   & 1    & 0    & 20   & 1    &  1   & 1    & 4   \\\\\n",
       "\t65 & 14.0 & 2    &  4   & 1    & 1    &  1   & 1    & 18   & 1    & 0    & 35   & 1    &  1   & 1    & 3   \\\\\n",
       "\t66 &  1.0 & 2    &  4   & 2    & 0    &  1   & 1    & 19   & 1    & 0    & 19   & 1    &  0   & 1    & 4   \\\\\n",
       "\t68 &  0.0 & 2    &  5   & 2    & 1    &  1   & 1    & 20   & 1    & 1    & 20   & 0    &  0   & 1    & 4   \\\\\n",
       "\t69 &  1.5 & 3    &  3   & 2    & 0    &  1   & 0    & 19   & 1    & 1    &  8   & 1    &  0   & 0    & 3   \\\\\n",
       "\t71 &  0.0 & 3    &  4   & 3    & 0    &  0   & 1    & 19   & 1    & 1    &  0   & 1    &  0   & 1    & 3   \\\\\n",
       "\t72 &  2.0 & 2    & 99   & 2    & 1    & 99   & 1    & 20   & 1    & 0    & 10   & 1    &  1   & 1    & 3   \\\\\n",
       "\t74 &  0.0 & 3    &  3   & 2    & 0    &  0   & 1    & 23   & 0    & 0    &  0   & 1    &  0   & 1    & 4   \\\\\n",
       "\t76 &  0.0 & 2    &  3   & 3    & 0    &  1   & 0    & 20   & 0    & 0    &  0   & 1    &  1   & 1    & 2   \\\\\n",
       "\t78 &  0.0 & 3    &  3   & 4    & 0    &  0   & 1    & 19   & 1    & 0    & 16   & 0    &  0   & 1    & 3   \\\\\n",
       "\t79 &  0.0 & 2    &  3   & 3    & 0    &  1   & 1    & 25   & 0    & 0    & 55   & 1    &  0   & 1    & 3   \\\\\n",
       "\t80 &  2.0 & 2    &  1   & 2    & 0    &  1   & 1    & 19   & 1    & 0    & 10   & 1    &  0   & 1    & 3   \\\\\n",
       "\t81 &  1.0 & 2    &  3   & 1    & 0    &  0   & 1    & 20   & 1    & 1    &  0   & 1    &  0   & 1    & 4   \\\\\n",
       "\t83 &  0.0 & 3    &  2   & 4    & 0    &  0   & 0    & 19   & 0    & 1    & 15   & 0    & 99   & 1    & 2   \\\\\n",
       "\t84 &  2.0 & 2    &  3   & 2    & 0    &  1   & 1    & 21   & 0    & 0    & 15   & 0    &  0   & 1    & 4   \\\\\n",
       "\t85 &  0.0 & 3    &  2   & 4    & 0    &  0   & 0    & 18   & 1    & 1    & 15   & 0    & 99   & 0    & 3   \\\\\n",
       "\t86 &  2.0 & 2    &  4   & 2    & 1    &  0   & 1    & 19   & 0    & 0    &  0   & 1    &  0   & 1    & 3   \\\\\n",
       "\t87 &  2.0 & 3    &  4   & 2    & 1    &  0   & 1    & 19   & 1    & 0    &  0   & 1    & 99   & 1    & 4   \\\\\n",
       "\t88 &  5.0 & 3    &  3   & 2    & 0    &  1   & 0    & 20   & 1    & 0    & 14   & 1    &  1   & 1    & 4   \\\\\n",
       "\t89 &  0.0 & 2    &  5   & 4    & 0    &  1   & 0    & 33   & 1    & 0    & 40   & 1    &  0   & 0    & 2   \\\\\n",
       "\t90 &  3.0 & 3    &  3   & 2    & 0    &  0   & 1    & 19   & 1    & 0    &  5   & 1    &  1   & 1    & 3   \\\\\n",
       "\t91 &  0.0 & 3    &  4   & 3    & 0    &  1   & 0    & 19   & 0    & 1    &  5   & 1    &  0   & 1    & 2   \\\\\n",
       "\\end{tabular}\n"
      ],
      "text/markdown": [
       "\n",
       "| <!--/--> | time | like | where | freq | busy | educ | sex | age | home | math | work | own | cdrom | email | grade |\n",
       "|---|---|---|---|---|---|---|---|---|---|---|---|---|---|---|---|\n",
       "| 1 | 2.0 | 3   |  3  |  2  |  0  |  1  | 0   | 19  | 1   | 0   | 10  | 1   |  0  | 1   | 4   |\n",
       "| 2 | 0.0 | 3   |  3  |  3  |  0  |  0  | 0   | 18  | 1   | 1   |  0  | 1   |  1  | 1   | 2   |\n",
       "| 3 | 0.0 | 3   |  1  |  3  |  0  |  0  | 1   | 19  | 1   | 0   |  0  | 1   |  0  | 1   | 3   |\n",
       "| 4 | 0.5 | 3   |  3  |  3  |  0  |  1  | 0   | 19  | 1   | 0   |  0  | 1   |  0  | 1   | 3   |\n",
       "| 5 | 0.0 | 3   |  3  |  4  |  0  |  1  | 0   | 19  | 1   | 1   |  0  | 0   |  0  | 1   | 3   |\n",
       "| 6 | 0.0 | 3   |  2  |  4  |  0  |  0  | 1   | 19  | 0   | 0   | 12  | 0   |  0  | 0   | 3   |\n",
       "| 8 | 0.0 | 3   |  3  |  4  |  0  |  0  | 0   | 19  | 1   | 0   | 13  | 0   |  0  | 1   | 3   |\n",
       "| 9 | 2.0 | 3   |  2  |  1  |  1  |  1  | 1   | 19  | 0   | 0   |  0  | 0   |  0  | 0   | 4   |\n",
       "| 10 | 0.0 | 3   |  3  |  4  |  0  |  1  | 1   | 19  | 1   | 1   |  0  | 1   |  0  | 1   | 4   |\n",
       "| 11 | 0.0 | 3   |  1  |  4  |  0  |  0  | 0   | 20  | 1   | 0   |  0  | 1   |  0  | 0   | 3   |\n",
       "| 12 | 0.0 | 3   |  2  |  4  |  0  |  0  | 0   | 19  | 1   | 0   |  0  | 1   |  0  | 1   | 4   |\n",
       "| 13 | 0.0 | 2   |  4  |  1  |  0  |  1  | 0   | 19  | 1   | 1   |  0  | 0   |  0  | 1   | 4   |\n",
       "| 14 | 3.0 | 3   |  3  |  2  |  1  |  0  | 0   | 18  | 0   | 0   |  0  | 0   |  0  | 1   | 3   |\n",
       "| 15 | 1.0 | 3   |  5  |  2  |  0  |  1  | 0   | 18  | 1   | 1   | 14  | 1   |  0  | 1   | 3   |\n",
       "| 17 | 0.0 | 3   |  3  |  4  |  0  |  1  | 1   | 21  | 1   | 0   |  2  | 1   |  0  | 1   | 4   |\n",
       "| 18 | 0.0 | 3   |  2  |  3  |  0  |  0  | 1   | 20  | 1   | 0   |  0  | 1   |  0  | 1   | 3   |\n",
       "| 19 | 2.0 | 2   |  2  |  2  |  1  |  0  | 1   | 18  | 1   | 0   |  0  | 1   |  0  | 1   | 4   |\n",
       "| 20 | 0.0 | 3   | 99  | 99  | 99  | 99  | 0   | 19  | 0   | 0   |  9  | 0   | 99  | 1   | 3   |\n",
       "| 21 | 2.0 | 3   |  2  |  2  |  0  |  1  | 1   | 20  | 1   | 0   | 15  | 1   |  0  | 0   | 4   |\n",
       "| 22 | 0.0 | 3   |  2  |  3  |  0  |  1  | 1   | 24  | 1   | 0   | 10  | 0   |  0  | 0   | 4   |\n",
       "| 23 | 2.0 | 3   |  3  |  1  |  1  |  1  | 1   | 19  | 0   | 0   |  0  | 1   |  0  | 1   | 4   |\n",
       "| 26 | 0.0 | 3   |  3  |  4  |  0  | 99  | 0   | 20  | 1   | 1   |  0  | 1   |  0  | 1   | 3   |\n",
       "| 27 | 0.0 | 2   |  3  |  4  |  0  |  0  | 1   | 22  | 1   | 1   |  0  | 1   |  1  | 1   | 4   |\n",
       "| 28 | 0.0 | 3   |  2  |  3  |  0  |  0  | 1   | 18  | 0   | 0   | 10  | 0   |  0  | 0   | 3   |\n",
       "| 32 | 1.0 | 3   |  5  |  2  |  0  |  1  | 1   | 19  | 1   | 0   | 99  | 1   |  1  | 1   | 3   |\n",
       "| 34 | 0.0 | 2   |  1  |  3  |  0  |  0  | 1   | 19  | 1   | 0   | 10  | 0   |  0  | 1   | 3   |\n",
       "| 35 | 0.0 | 3   |  3  |  1  |  0  |  1  | 0   | 19  | 1   | 0   | 12  | 1   |  0  | 1   | 3   |\n",
       "| 36 | 0.1 | 2   |  6  |  2  |  0  |  1  | 1   | 18  | 0   | 0   |  5  | 1   |  1  | 1   | 4   |\n",
       "| 38 | 1.0 | 3   |  4  |  4  | 99  |  1  | 0   | 20  | 1   | 0   |  0  | 1   |  0  | 1   | 3   |\n",
       "| 39 | 0.0 | 3   |  1  |  4  |  0  |  0  | 0   | 19  | 0   | 0   |  0  | 0   |  0  | 1   | 3   |\n",
       "| ... | ... | ... | ... | ... | ... | ... | ... | ... | ... | ... | ... | ... | ... | ... | ... |\n",
       "| 53 |  0.5 | 3    |  2   | 2    | 0    |  0   | 1    | 19   | 1    | 0    | 16   | 1    |  0   | 1    | 3    |\n",
       "| 54 |  3.0 | 2    |  3   | 1    | 0    |  1   | 1    | 18   | 1    | 0    |  7   | 1    |  0   | 1    | 3    |\n",
       "| 55 |  0.0 | 3    |  1   | 3    | 0    |  0   | 1    | 19   | 0    | 0    | 15   | 0    |  0   | 1    | 3    |\n",
       "| 58 |  4.0 | 2    | 99   | 1    | 1    |  1   | 1    | 20   | 1    | 0    |  6   | 1    |  0   | 0    | 4    |\n",
       "| 59 | 30.0 | 2    | 99   | 2    | 1    |  0   | 1    | 19   | 0    | 1    |  0   | 0    |  0   | 1    | 3    |\n",
       "| 60 | 14.0 | 2    | 99   | 1    | 1    |  0   | 0    | 19   | 1    | 0    |  0   | 1    |  0   | 1    | 2    |\n",
       "| 61 |  0.0 | 3    |  1   | 3    | 0    |  1   | 1    | 19   | 0    | 0    |  0   | 0    |  0   | 0    | 3    |\n",
       "| 62 |  0.0 | 2    | 99   | 3    | 0    |  1   | 0    | 21   | 0    | 0    | 18   | 1    |  0   | 0    | 2    |\n",
       "| 64 |  0.5 | 2    |  3   | 2    | 1    |  1   | 1    | 19   | 1    | 0    | 20   | 1    |  1   | 1    | 4    |\n",
       "| 65 | 14.0 | 2    |  4   | 1    | 1    |  1   | 1    | 18   | 1    | 0    | 35   | 1    |  1   | 1    | 3    |\n",
       "| 66 |  1.0 | 2    |  4   | 2    | 0    |  1   | 1    | 19   | 1    | 0    | 19   | 1    |  0   | 1    | 4    |\n",
       "| 68 |  0.0 | 2    |  5   | 2    | 1    |  1   | 1    | 20   | 1    | 1    | 20   | 0    |  0   | 1    | 4    |\n",
       "| 69 |  1.5 | 3    |  3   | 2    | 0    |  1   | 0    | 19   | 1    | 1    |  8   | 1    |  0   | 0    | 3    |\n",
       "| 71 |  0.0 | 3    |  4   | 3    | 0    |  0   | 1    | 19   | 1    | 1    |  0   | 1    |  0   | 1    | 3    |\n",
       "| 72 |  2.0 | 2    | 99   | 2    | 1    | 99   | 1    | 20   | 1    | 0    | 10   | 1    |  1   | 1    | 3    |\n",
       "| 74 |  0.0 | 3    |  3   | 2    | 0    |  0   | 1    | 23   | 0    | 0    |  0   | 1    |  0   | 1    | 4    |\n",
       "| 76 |  0.0 | 2    |  3   | 3    | 0    |  1   | 0    | 20   | 0    | 0    |  0   | 1    |  1   | 1    | 2    |\n",
       "| 78 |  0.0 | 3    |  3   | 4    | 0    |  0   | 1    | 19   | 1    | 0    | 16   | 0    |  0   | 1    | 3    |\n",
       "| 79 |  0.0 | 2    |  3   | 3    | 0    |  1   | 1    | 25   | 0    | 0    | 55   | 1    |  0   | 1    | 3    |\n",
       "| 80 |  2.0 | 2    |  1   | 2    | 0    |  1   | 1    | 19   | 1    | 0    | 10   | 1    |  0   | 1    | 3    |\n",
       "| 81 |  1.0 | 2    |  3   | 1    | 0    |  0   | 1    | 20   | 1    | 1    |  0   | 1    |  0   | 1    | 4    |\n",
       "| 83 |  0.0 | 3    |  2   | 4    | 0    |  0   | 0    | 19   | 0    | 1    | 15   | 0    | 99   | 1    | 2    |\n",
       "| 84 |  2.0 | 2    |  3   | 2    | 0    |  1   | 1    | 21   | 0    | 0    | 15   | 0    |  0   | 1    | 4    |\n",
       "| 85 |  0.0 | 3    |  2   | 4    | 0    |  0   | 0    | 18   | 1    | 1    | 15   | 0    | 99   | 0    | 3    |\n",
       "| 86 |  2.0 | 2    |  4   | 2    | 1    |  0   | 1    | 19   | 0    | 0    |  0   | 1    |  0   | 1    | 3    |\n",
       "| 87 |  2.0 | 3    |  4   | 2    | 1    |  0   | 1    | 19   | 1    | 0    |  0   | 1    | 99   | 1    | 4    |\n",
       "| 88 |  5.0 | 3    |  3   | 2    | 0    |  1   | 0    | 20   | 1    | 0    | 14   | 1    |  1   | 1    | 4    |\n",
       "| 89 |  0.0 | 2    |  5   | 4    | 0    |  1   | 0    | 33   | 1    | 0    | 40   | 1    |  0   | 0    | 2    |\n",
       "| 90 |  3.0 | 3    |  3   | 2    | 0    |  0   | 1    | 19   | 1    | 0    |  5   | 1    |  1   | 1    | 3    |\n",
       "| 91 |  0.0 | 3    |  4   | 3    | 0    |  1   | 0    | 19   | 0    | 1    |  5   | 1    |  0   | 1    | 2    |\n",
       "\n"
      ],
      "text/plain": [
       "    time like where freq busy educ sex age home math work own cdrom email grade\n",
       "1   2.0  3     3     2    0    1   0   19  1    0    10   1    0    1     4    \n",
       "2   0.0  3     3     3    0    0   0   18  1    1     0   1    1    1     2    \n",
       "3   0.0  3     1     3    0    0   1   19  1    0     0   1    0    1     3    \n",
       "4   0.5  3     3     3    0    1   0   19  1    0     0   1    0    1     3    \n",
       "5   0.0  3     3     4    0    1   0   19  1    1     0   0    0    1     3    \n",
       "6   0.0  3     2     4    0    0   1   19  0    0    12   0    0    0     3    \n",
       "8   0.0  3     3     4    0    0   0   19  1    0    13   0    0    1     3    \n",
       "9   2.0  3     2     1    1    1   1   19  0    0     0   0    0    0     4    \n",
       "10  0.0  3     3     4    0    1   1   19  1    1     0   1    0    1     4    \n",
       "11  0.0  3     1     4    0    0   0   20  1    0     0   1    0    0     3    \n",
       "12  0.0  3     2     4    0    0   0   19  1    0     0   1    0    1     4    \n",
       "13  0.0  2     4     1    0    1   0   19  1    1     0   0    0    1     4    \n",
       "14  3.0  3     3     2    1    0   0   18  0    0     0   0    0    1     3    \n",
       "15  1.0  3     5     2    0    1   0   18  1    1    14   1    0    1     3    \n",
       "17  0.0  3     3     4    0    1   1   21  1    0     2   1    0    1     4    \n",
       "18  0.0  3     2     3    0    0   1   20  1    0     0   1    0    1     3    \n",
       "19  2.0  2     2     2    1    0   1   18  1    0     0   1    0    1     4    \n",
       "20  0.0  3    99    99   99   99   0   19  0    0     9   0   99    1     3    \n",
       "21  2.0  3     2     2    0    1   1   20  1    0    15   1    0    0     4    \n",
       "22  0.0  3     2     3    0    1   1   24  1    0    10   0    0    0     4    \n",
       "23  2.0  3     3     1    1    1   1   19  0    0     0   1    0    1     4    \n",
       "26  0.0  3     3     4    0   99   0   20  1    1     0   1    0    1     3    \n",
       "27  0.0  2     3     4    0    0   1   22  1    1     0   1    1    1     4    \n",
       "28  0.0  3     2     3    0    0   1   18  0    0    10   0    0    0     3    \n",
       "32  1.0  3     5     2    0    1   1   19  1    0    99   1    1    1     3    \n",
       "34  0.0  2     1     3    0    0   1   19  1    0    10   0    0    1     3    \n",
       "35  0.0  3     3     1    0    1   0   19  1    0    12   1    0    1     3    \n",
       "36  0.1  2     6     2    0    1   1   18  0    0     5   1    1    1     4    \n",
       "38  1.0  3     4     4   99    1   0   20  1    0     0   1    0    1     3    \n",
       "39  0.0  3     1     4    0    0   0   19  0    0     0   0    0    1     3    \n",
       "... ...  ...  ...   ...  ...  ...  ... ... ...  ...  ...  ... ...   ...   ...  \n",
       "53   0.5 3     2    2    0     0   1   19  1    0    16   1    0    1     3    \n",
       "54   3.0 2     3    1    0     1   1   18  1    0     7   1    0    1     3    \n",
       "55   0.0 3     1    3    0     0   1   19  0    0    15   0    0    1     3    \n",
       "58   4.0 2    99    1    1     1   1   20  1    0     6   1    0    0     4    \n",
       "59  30.0 2    99    2    1     0   1   19  0    1     0   0    0    1     3    \n",
       "60  14.0 2    99    1    1     0   0   19  1    0     0   1    0    1     2    \n",
       "61   0.0 3     1    3    0     1   1   19  0    0     0   0    0    0     3    \n",
       "62   0.0 2    99    3    0     1   0   21  0    0    18   1    0    0     2    \n",
       "64   0.5 2     3    2    1     1   1   19  1    0    20   1    1    1     4    \n",
       "65  14.0 2     4    1    1     1   1   18  1    0    35   1    1    1     3    \n",
       "66   1.0 2     4    2    0     1   1   19  1    0    19   1    0    1     4    \n",
       "68   0.0 2     5    2    1     1   1   20  1    1    20   0    0    1     4    \n",
       "69   1.5 3     3    2    0     1   0   19  1    1     8   1    0    0     3    \n",
       "71   0.0 3     4    3    0     0   1   19  1    1     0   1    0    1     3    \n",
       "72   2.0 2    99    2    1    99   1   20  1    0    10   1    1    1     3    \n",
       "74   0.0 3     3    2    0     0   1   23  0    0     0   1    0    1     4    \n",
       "76   0.0 2     3    3    0     1   0   20  0    0     0   1    1    1     2    \n",
       "78   0.0 3     3    4    0     0   1   19  1    0    16   0    0    1     3    \n",
       "79   0.0 2     3    3    0     1   1   25  0    0    55   1    0    1     3    \n",
       "80   2.0 2     1    2    0     1   1   19  1    0    10   1    0    1     3    \n",
       "81   1.0 2     3    1    0     0   1   20  1    1     0   1    0    1     4    \n",
       "83   0.0 3     2    4    0     0   0   19  0    1    15   0   99    1     2    \n",
       "84   2.0 2     3    2    0     1   1   21  0    0    15   0    0    1     4    \n",
       "85   0.0 3     2    4    0     0   0   18  1    1    15   0   99    0     3    \n",
       "86   2.0 2     4    2    1     0   1   19  0    0     0   1    0    1     3    \n",
       "87   2.0 3     4    2    1     0   1   19  1    0     0   1   99    1     4    \n",
       "88   5.0 3     3    2    0     1   0   20  1    0    14   1    1    1     4    \n",
       "89   0.0 2     5    4    0     1   0   33  1    0    40   1    0    0     2    \n",
       "90   3.0 3     3    2    0     0   1   19  1    0     5   1    1    1     3    \n",
       "91   0.0 3     4    3    0     1   0   19  0    1     5   1    0    1     2    "
      ]
     },
     "metadata": {},
     "output_type": "display_data"
    }
   ],
   "source": [
    "likers"
   ]
  },
  {
   "cell_type": "code",
   "execution_count": null,
   "metadata": {},
   "outputs": [],
   "source": []
  }
 ],
 "metadata": {
  "kernelspec": {
   "display_name": "R",
   "language": "R",
   "name": "ir"
  },
  "language_info": {
   "codemirror_mode": "r",
   "file_extension": ".r",
   "mimetype": "text/x-r-source",
   "name": "R",
   "pygments_lexer": "r",
   "version": "3.6.1"
  }
 },
 "nbformat": 4,
 "nbformat_minor": 4
}
