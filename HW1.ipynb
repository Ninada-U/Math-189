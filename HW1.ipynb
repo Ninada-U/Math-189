{
 "cells": [
  {
   "cell_type": "code",
   "execution_count": 140,
   "metadata": {},
   "outputs": [],
   "source": [
    "library(ggplot2)"
   ]
  },
  {
   "cell_type": "code",
   "execution_count": 141,
   "metadata": {},
   "outputs": [],
   "source": [
    "bb = read.table('babies.txt', header=1)\n",
    "bb$smoke[bb$smoke == 0] <- \"Non-smoker\"\n",
    "bb$smoke[bb$smoke == 1] <- \"Smoker\"\n",
    "bb <- bb[bb$smoke!=9,]"
   ]
  },
  {
   "cell_type": "code",
   "execution_count": 150,
   "metadata": {},
   "outputs": [
    {
     "data": {
      "image/png": "[encoded data removed]",
      "text/plain": [
       "Plot with title \"Normal Q-Q Plot\""
      ]
     },
     "metadata": {},
     "output_type": "display_data"
    }
   ],
   "source": [
    "qqnorm(s$weight, pch = 1, frame=FALSE)\n",
    "qqline(s$weight, col=\"steelblue\", lwd=2)"
   ]
  },
  {
   "cell_type": "code",
   "execution_count": 143,
   "metadata": {},
   "outputs": [],
   "source": [
    "p = ggplot(bb, aes(x=smoke, y=weight, group=smoke)) + geom_boxplot()\n",
    "p + labs(title=\"Baby Weights in Smoking vs Non-smoking Mothers\", \n",
    "         x=\"Mother's Smoking Status\", \n",
    "         y=\"Baby Weight (grams)\")"
   ]
  },
  {
   "cell_type": "code",
   "execution_count": 144,
   "metadata": {},
   "outputs": [],
   "source": [
    "# remove first obvious outliers\n",
    "bb <- bb[bb$smoke!=9,]\n",
    "bb <- bb[bb$weight<750,]\n",
    "bb <- bb[bb$height<75,]\n",
    "bb <- bb[bb$age<50,]\n",
    "bb <- bb[bb$gestation<500,]"
   ]
  },
  {
   "cell_type": "code",
   "execution_count": 145,
   "metadata": {},
   "outputs": [],
   "source": [
    "# split data into non-smokers and smokers\n",
    "ns<-bb[bb$smoke==\"Non-smoker\",]\n",
    "s<-bb[bb$smoke==\"Smoker\",]"
   ]
  },
  {
   "cell_type": "code",
   "execution_count": 146,
   "metadata": {},
   "outputs": [],
   "source": [
    "# filter smokers and non-smokers by 'box whisker' method\n",
    "Q1 = summary(ns$weight)['1st Qu.']\n",
    "Q3 = summary(ns$weight)['3rd Qu.']\n",
    "IQR = Q3-Q1\n",
    "min_cutoff = Q1 - (1.5*IQR)\n",
    "max_cutoff = Q3 + (1.5*IQR)\n",
    "ns<-ns[ns$weight > min_cutoff, ]\n",
    "ns<-ns[ns$weight < max_cutoff, ]\n",
    "\n",
    "Q1 = summary(s$weight)['1st Qu.']\n",
    "Q3 = summary(s$weight)['3rd Qu.']\n",
    "IQR = Q3-Q1\n",
    "min_cutoff = Q1 - (1.5*IQR)\n",
    "max_cutoff = Q3 + (1.5*IQR)\n",
    "s<-s[s$weight > min_cutoff, ]\n",
    "s<-s[s$weight < max_cutoff, ]"
   ]
  },
  {
   "cell_type": "code",
   "execution_count": 192,
   "metadata": {},
   "outputs": [
    {
     "data": {
      "text/html": [
       "<dl class=dl-horizontal>\n",
       "\t<dt>(182,224]</dt>\n",
       "\t\t<dd>204</dd>\n",
       "\t<dt>(224,238]</dt>\n",
       "\t\t<dd>233.166666666667</dd>\n",
       "\t<dt>(238,245]</dt>\n",
       "\t\t<dd>242.5</dd>\n",
       "\t<dt>(245,252]</dt>\n",
       "\t\t<dd>249.125</dd>\n",
       "\t<dt>(252,259]</dt>\n",
       "\t\t<dd>256.619047619048</dd>\n",
       "\t<dt>(259,266]</dt>\n",
       "\t\t<dd>263.34375</dd>\n",
       "\t<dt>(266,273]</dt>\n",
       "\t\t<dd>270.468085106383</dd>\n",
       "\t<dt>(273,280]</dt>\n",
       "\t\t<dd>277.006802721088</dd>\n",
       "\t<dt>(280,287]</dt>\n",
       "\t\t<dd>283.613924050633</dd>\n",
       "\t<dt>(287,294]</dt>\n",
       "\t\t<dd>290.552</dd>\n",
       "\t<dt>(294,301]</dt>\n",
       "\t\t<dd>297.589743589744</dd>\n",
       "\t<dt>(301,308]</dt>\n",
       "\t\t<dd>304.590909090909</dd>\n",
       "\t<dt>(308,315]</dt>\n",
       "\t\t<dd>312.2</dd>\n",
       "\t<dt>(315,322]</dt>\n",
       "\t\t<dd>317.875</dd>\n",
       "\t<dt>(322,500]</dt>\n",
       "\t\t<dd>341.25</dd>\n",
       "</dl>\n"
      ],
      "text/latex": [
       "\\begin{description*}\n",
       "\\item[(182,224\\{{]}\\}] 204\n",
       "\\item[(224,238\\{{]}\\}] 233.166666666667\n",
       "\\item[(238,245\\{{]}\\}] 242.5\n",
       "\\item[(245,252\\{{]}\\}] 249.125\n",
       "\\item[(252,259\\{{]}\\}] 256.619047619048\n",
       "\\item[(259,266\\{{]}\\}] 263.34375\n",
       "\\item[(266,273\\{{]}\\}] 270.468085106383\n",
       "\\item[(273,280\\{{]}\\}] 277.006802721088\n",
       "\\item[(280,287\\{{]}\\}] 283.613924050633\n",
       "\\item[(287,294\\{{]}\\}] 290.552\n",
       "\\item[(294,301\\{{]}\\}] 297.589743589744\n",
       "\\item[(301,308\\{{]}\\}] 304.590909090909\n",
       "\\item[(308,315\\{{]}\\}] 312.2\n",
       "\\item[(315,322\\{{]}\\}] 317.875\n",
       "\\item[(322,500\\{{]}\\}] 341.25\n",
       "\\end{description*}\n"
      ],
      "text/markdown": [
       "(182,224]\n",
       ":   204(224,238]\n",
       ":   233.166666666667(238,245]\n",
       ":   242.5(245,252]\n",
       ":   249.125(252,259]\n",
       ":   256.619047619048(259,266]\n",
       ":   263.34375(266,273]\n",
       ":   270.468085106383(273,280]\n",
       ":   277.006802721088(280,287]\n",
       ":   283.613924050633(287,294]\n",
       ":   290.552(294,301]\n",
       ":   297.589743589744(301,308]\n",
       ":   304.590909090909(308,315]\n",
       ":   312.2(315,322]\n",
       ":   317.875(322,500]\n",
       ":   341.25\n",
       "\n"
      ],
      "text/plain": [
       "(182,224] (224,238] (238,245] (245,252] (252,259] (259,266] (266,273] (273,280] \n",
       " 204.0000  233.1667  242.5000  249.1250  256.6190  263.3438  270.4681  277.0068 \n",
       "(280,287] (287,294] (294,301] (301,308] (308,315] (315,322] (322,500] \n",
       " 283.6139  290.5520  297.5897  304.5909  312.2000  317.8750  341.2500 "
      ]
     },
     "metadata": {},
     "output_type": "display_data"
    }
   ],
   "source": [
    "ns.class <- cut(ns$gestation, c(182, 224, 238, 245, \n",
    "                                252, 259, 266, 273, 280, 287, 294, \n",
    "                                301, 308, 315, 322, 500))\n",
    "mean.mag <- tapply(ns$gestation, ns.class, mean)\n",
    "tapply(ns$gestation, ns.class, mean)"
   ]
  },
  {
   "cell_type": "code",
   "execution_count": 193,
   "metadata": {},
   "outputs": [
    {
     "data": {
      "text/html": [
       "<dl class=dl-horizontal>\n",
       "\t<dt>(182,224]</dt>\n",
       "\t\t<dd>&lt;NA&gt;</dd>\n",
       "\t<dt>(224,238]</dt>\n",
       "\t\t<dd>4.01889476740996</dd>\n",
       "\t<dt>(238,245]</dt>\n",
       "\t\t<dd>2.38047614284762</dd>\n",
       "\t<dt>(245,252]</dt>\n",
       "\t\t<dd>2.3629078131263</dd>\n",
       "\t<dt>(252,259]</dt>\n",
       "\t\t<dd>1.65759435557046</dd>\n",
       "\t<dt>(259,266]</dt>\n",
       "\t\t<dd>2.16436498919466</dd>\n",
       "\t<dt>(266,273]</dt>\n",
       "\t\t<dd>2.01447518531475</dd>\n",
       "\t<dt>(273,280]</dt>\n",
       "\t\t<dd>1.88903323335109</dd>\n",
       "\t<dt>(280,287]</dt>\n",
       "\t\t<dd>1.89778511043931</dd>\n",
       "\t<dt>(287,294]</dt>\n",
       "\t\t<dd>1.91537076340074</dd>\n",
       "\t<dt>(294,301]</dt>\n",
       "\t\t<dd>1.81685020553862</dd>\n",
       "\t<dt>(301,308]</dt>\n",
       "\t\t<dd>2.13048375702821</dd>\n",
       "\t<dt>(308,315]</dt>\n",
       "\t\t<dd>2.28035085019828</dd>\n",
       "\t<dt>(315,322]</dt>\n",
       "\t\t<dd>1.35620268186054</dd>\n",
       "\t<dt>(322,500]</dt>\n",
       "\t\t<dd>13.865424623862</dd>\n",
       "</dl>\n"
      ],
      "text/latex": [
       "\\begin{description*}\n",
       "\\item[(182,224\\{{]}\\}] <NA>\n",
       "\\item[(224,238\\{{]}\\}] 4.01889476740996\n",
       "\\item[(238,245\\{{]}\\}] 2.38047614284762\n",
       "\\item[(245,252\\{{]}\\}] 2.3629078131263\n",
       "\\item[(252,259\\{{]}\\}] 1.65759435557046\n",
       "\\item[(259,266\\{{]}\\}] 2.16436498919466\n",
       "\\item[(266,273\\{{]}\\}] 2.01447518531475\n",
       "\\item[(273,280\\{{]}\\}] 1.88903323335109\n",
       "\\item[(280,287\\{{]}\\}] 1.89778511043931\n",
       "\\item[(287,294\\{{]}\\}] 1.91537076340074\n",
       "\\item[(294,301\\{{]}\\}] 1.81685020553862\n",
       "\\item[(301,308\\{{]}\\}] 2.13048375702821\n",
       "\\item[(308,315\\{{]}\\}] 2.28035085019828\n",
       "\\item[(315,322\\{{]}\\}] 1.35620268186054\n",
       "\\item[(322,500\\{{]}\\}] 13.865424623862\n",
       "\\end{description*}\n"
      ],
      "text/markdown": [
       "(182,224]\n",
       ":   &lt;NA&gt;(224,238]\n",
       ":   4.01889476740996(238,245]\n",
       ":   2.38047614284762(245,252]\n",
       ":   2.3629078131263(252,259]\n",
       ":   1.65759435557046(259,266]\n",
       ":   2.16436498919466(266,273]\n",
       ":   2.01447518531475(273,280]\n",
       ":   1.88903323335109(280,287]\n",
       ":   1.89778511043931(287,294]\n",
       ":   1.91537076340074(294,301]\n",
       ":   1.81685020553862(301,308]\n",
       ":   2.13048375702821(308,315]\n",
       ":   2.28035085019828(315,322]\n",
       ":   1.35620268186054(322,500]\n",
       ":   13.865424623862\n",
       "\n"
      ],
      "text/plain": [
       "(182,224] (224,238] (238,245] (245,252] (252,259] (259,266] (266,273] (273,280] \n",
       "       NA  4.018895  2.380476  2.362908  1.657594  2.164365  2.014475  1.889033 \n",
       "(280,287] (287,294] (294,301] (301,308] (308,315] (315,322] (322,500] \n",
       " 1.897785  1.915371  1.816850  2.130484  2.280351  1.356203 13.865425 "
      ]
     },
     "metadata": {},
     "output_type": "display_data"
    }
   ],
   "source": [
    "sd <- tapply(ns$gestation, ns.class, sd)\n",
    "tapply(ns$gestation, ns.class, sd)"
   ]
  },
  {
   "cell_type": "code",
   "execution_count": 148,
   "metadata": {},
   "outputs": [
    {
     "data": {
      "image/png": "[encoded data removed]",
      "text/plain": [
       "plot without title"
      ]
     },
     "metadata": {},
     "output_type": "display_data"
    }
   ],
   "source": [
    "# plot data\n",
    "bb = rbind(ns, s)\n",
    "p = ggplot(bb, aes(x=smoke, y=weight, group=smoke)) + geom_boxplot()\n",
    "p + labs(title=\"Baby Weights in Smoking vs Non-smoking Mothers\", \n",
    "         x=\"Mother's Smoking Status\", \n",
    "         y=\"Baby Weight (grams)\")"
   ]
  },
  {
   "cell_type": "code",
   "execution_count": 19,
   "metadata": {},
   "outputs": [
    {
     "name": "stdout",
     "output_type": "stream",
     "text": [
      "non-smoker\n",
      "mean 126.2363 \n",
      "sd 15.98225 \n",
      "smoker\n",
      "mean 124.69 \n",
      "sd 16.59375"
     ]
    }
   ],
   "source": [
    "cat(\"non-smoker\\n\")\n",
    "cat(\"mean\", mean(ns$weight), '\\n')\n",
    "cat(\"sd\", sd(ns$weight), '\\n')\n",
    "cat(\"smoker\\n\")\n",
    "cat(\"mean\", mean(s$weight), '\\n')\n",
    "cat(\"sd\", sd(s$weight))"
   ]
  },
  {
   "cell_type": "code",
   "execution_count": 7,
   "metadata": {},
   "outputs": [
    {
     "data": {
      "image/png": "[encoded data removed]",
      "text/plain": [
       "plot without title"
      ]
     },
     "metadata": {},
     "output_type": "display_data"
    }
   ],
   "source": [
    "ggplot(bb, aes(x=smoke, y=weight, group=smoke)) + geom_boxplot()"
   ]
  },
  {
   "cell_type": "code",
   "execution_count": null,
   "metadata": {},
   "outputs": [],
   "source": []
  }
 ],
 "metadata": {
  "kernelspec": {
   "display_name": "R",
   "language": "R",
   "name": "ir"
  },
  "language_info": {
   "codemirror_mode": "r",
   "file_extension": ".r",
   "mimetype": "text/x-r-source",
   "name": "R",
   "pygments_lexer": "r",
   "version": "3.6.1"
  }
 },
 "nbformat": 4,
 "nbformat_minor": 4
}
