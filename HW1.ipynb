{
 "cells": [
  {
   "cell_type": "code",
   "execution_count": null,
   "metadata": {},
   "outputs": [],
   "source": [
    "library(ggplot2)"
   ]
  },
  {
   "cell_type": "code",
   "execution_count": 74,
   "metadata": {},
   "outputs": [],
   "source": [
    "bb = read.table('babies.txt', header=1)\n",
    "bb <- bb[bb$smoke!=9,]\n",
    "bb <- bb[bb$weight<750,]\n",
    "bb <- bb[bb$height<75,]\n",
    "bb <- bb[bb$age<50,]"
   ]
  },
  {
   "cell_type": "code",
   "execution_count": 75,
   "metadata": {},
   "outputs": [],
   "source": [
    "ns<-bb[bb$smoke==0,]\n",
    "s<-bb[bb$smoke==1,]"
   ]
  },
  {
   "cell_type": "code",
   "execution_count": 58,
   "metadata": {},
   "outputs": [
    {
     "data": {
      "text/html": [
       "<table>\n",
       "<thead><tr><th scope=col>bwt</th><th scope=col>gestation</th><th scope=col>parity</th><th scope=col>age</th><th scope=col>height</th><th scope=col>weight</th><th scope=col>smoke</th></tr></thead>\n",
       "<tbody>\n",
       "\t<tr><td>120</td><td>284</td><td>0  </td><td>27 </td><td>62 </td><td>100</td><td>0  </td></tr>\n",
       "\t<tr><td>113</td><td>282</td><td>0  </td><td>33 </td><td>64 </td><td>135</td><td>0  </td></tr>\n",
       "</tbody>\n",
       "</table>\n"
      ],
      "text/latex": [
       "\\begin{tabular}{r|lllllll}\n",
       " bwt & gestation & parity & age & height & weight & smoke\\\\\n",
       "\\hline\n",
       "\t 120 & 284 & 0   & 27  & 62  & 100 & 0  \\\\\n",
       "\t 113 & 282 & 0   & 33  & 64  & 135 & 0  \\\\\n",
       "\\end{tabular}\n"
      ],
      "text/markdown": [
       "\n",
       "| bwt | gestation | parity | age | height | weight | smoke |\n",
       "|---|---|---|---|---|---|---|\n",
       "| 120 | 284 | 0   | 27  | 62  | 100 | 0   |\n",
       "| 113 | 282 | 0   | 33  | 64  | 135 | 0   |\n",
       "\n"
      ],
      "text/plain": [
       "  bwt gestation parity age height weight smoke\n",
       "1 120 284       0      27  62     100    0    \n",
       "2 113 282       0      33  64     135    0    "
      ]
     },
     "metadata": {},
     "output_type": "display_data"
    }
   ],
   "source": [
    "head(bb, 2)"
   ]
  },
  {
   "cell_type": "code",
   "execution_count": 76,
   "metadata": {},
   "outputs": [
    {
     "data": {
      "image/png": "[encoded data removed]",
      "text/plain": [
       "plot without title"
      ]
     },
     "metadata": {},
     "output_type": "display_data"
    }
   ],
   "source": [
    "ggplot(bb, aes(x=smoke, y=weight, group=smoke)) + geom_boxplot()"
   ]
  }
 ],
 "metadata": {
  "kernelspec": {
   "display_name": "R",
   "language": "R",
   "name": "ir"
  },
  "language_info": {
   "codemirror_mode": "r",
   "file_extension": ".r",
   "mimetype": "text/x-r-source",
   "name": "R",
   "pygments_lexer": "r",
   "version": "3.6.1"
  }
 },
 "nbformat": 4,
 "nbformat_minor": 4
}
