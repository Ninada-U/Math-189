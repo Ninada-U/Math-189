{
 "cells": [
  {
   "cell_type": "code",
   "execution_count": 1,
   "metadata": {},
   "outputs": [
    {
     "name": "stderr",
     "output_type": "stream",
     "text": [
      "Registered S3 methods overwritten by 'ggplot2':\n",
      "  method         from \n",
      "  [.quosures     rlang\n",
      "  c.quosures     rlang\n",
      "  print.quosures rlang\n"
     ]
    }
   ],
   "source": [
    "library(ggplot2)"
   ]
  },
  {
   "cell_type": "code",
   "execution_count": 2,
   "metadata": {},
   "outputs": [],
   "source": [
    "bb = read.table('babies.txt', header=1)\n",
    "# remove first obvious outliers\n",
    "bb <- bb[bb$smoke!=9,]\n",
    "bb <- bb[bb$weight<750,]\n",
    "bb <- bb[bb$height<75,]\n",
    "bb <- bb[bb$age<50,]\n",
    "bb <- bb[bb$gestation<500,]"
   ]
  },
  {
   "cell_type": "code",
   "execution_count": 3,
   "metadata": {},
   "outputs": [],
   "source": [
    "# split data into non-smokers and smokers\n",
    "ns<-bb[bb$smoke==0,]\n",
    "s<-bb[bb$smoke==1,]"
   ]
  },
  {
   "cell_type": "code",
   "execution_count": 4,
   "metadata": {},
   "outputs": [],
   "source": [
    "# filter smokers and non-smokers by 'box whisker' method\n",
    "Q1 = summary(ns$weight)['1st Qu.']\n",
    "Q3 = summary(ns$weight)['3rd Qu.']\n",
    "IQR = Q3-Q1\n",
    "min_cutoff = Q1 - (1.5*IQR)\n",
    "max_cutoff = Q3 + (1.5*IQR)\n",
    "ns<-ns[ns$weight > min_cutoff, ]\n",
    "ns<-ns[ns$weight < max_cutoff, ]\n",
    "\n",
    "Q1 = summary(s$weight)['1st Qu.']\n",
    "Q3 = summary(s$weight)['3rd Qu.']\n",
    "IQR = Q3-Q1\n",
    "min_cutoff = Q1 - (1.5*IQR)\n",
    "max_cutoff = Q3 + (1.5*IQR)\n",
    "s<-s[s$weight > min_cutoff, ]\n",
    "s<-s[s$weight < max_cutoff, ]"
   ]
  },
  {
   "cell_type": "code",
   "execution_count": 5,
   "metadata": {},
   "outputs": [
    {
     "name": "stdout",
     "output_type": "stream",
     "text": [
      "non-smoker\n",
      "mean 127.0884 \n",
      "sd 16.98901 \n",
      "smoker\n",
      "mean 124.69 \n",
      "sd 16.59375"
     ]
    }
   ],
   "source": [
    "cat(\"non-smoker\\n\")\n",
    "cat(\"mean\", mean(ns$weight), '\\n')\n",
    "cat(\"sd\", sd(ns$weight), '\\n')\n",
    "cat(\"smoker\\n\")\n",
    "cat(\"mean\", mean(s$weight), '\\n')\n",
    "cat(\"sd\", sd(s$weight))"
   ]
  },
  {
   "cell_type": "code",
   "execution_count": 7,
   "metadata": {},
   "outputs": [
    {
     "data": {
      "image/png": "[encoded data removed]",
      "text/plain": [
       "plot without title"
      ]
     },
     "metadata": {},
     "output_type": "display_data"
    }
   ],
   "source": [
    "ggplot(bb, aes(x=smoke, y=weight, group=smoke)) + geom_boxplot()"
   ]
  },
  {
   "cell_type": "code",
   "execution_count": null,
   "metadata": {},
   "outputs": [],
   "source": []
  }
 ],
 "metadata": {
  "kernelspec": {
   "display_name": "R",
   "language": "R",
   "name": "ir"
  },
  "language_info": {
   "codemirror_mode": "r",
   "file_extension": ".r",
   "mimetype": "text/x-r-source",
   "name": "R",
   "pygments_lexer": "r",
   "version": "3.6.1"
  }
 },
 "nbformat": 4,
 "nbformat_minor": 4
}
